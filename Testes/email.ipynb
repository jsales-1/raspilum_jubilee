{
 "cells": [
  {
   "cell_type": "code",
   "execution_count": 1,
   "id": "af8817ae",
   "metadata": {},
   "outputs": [],
   "source": [
    "import smtplib\n",
    "from email.mime.text import MIMEText\n",
    "from email.mime.multipart import MIMEMultipart\n",
    "from email.mime.image import MIMEImage\n",
    "from email.mime.base import MIMEBase\n",
    "from email import encoders\n",
    "import os"
   ]
  },
  {
   "cell_type": "code",
   "execution_count": null,
   "id": "89c4b939",
   "metadata": {},
   "outputs": [
    {
     "name": "stdout",
     "output_type": "stream",
     "text": [
      "Email with image sent successfully!\n"
     ]
    }
   ],
   "source": [
    "\n",
    "\n",
    "def send_email_with_image():\n",
    "\n",
    "    sender_email = \"icraspilum@gmail.com\" \n",
    "    receiver_email = \"davjos33@gmail.com\"  \n",
    "    password = \"anii ytba sekt kulk\"  \n",
    "    subject = \"Email with Image Attachment from Python\"\n",
    "    body = \"This email contains an image attachment sent from a Python script.\"\n",
    "    \n",
    "    image_path = \"imagem/placa real.jpg\" \n",
    "    \n",
    "    message = MIMEMultipart()\n",
    "    message[\"From\"] = sender_email\n",
    "    message[\"To\"] = receiver_email\n",
    "    message[\"Subject\"] = subject\n",
    "    \n",
    "    message.attach(MIMEText(body, \"plain\"))\n",
    "    \n",
    "    try:\n",
    "        with open(image_path, 'rb') as file:\n",
    "\n",
    "            img_data = file.read()\n",
    "            image = MIMEImage(img_data, name=os.path.basename(image_path))\n",
    "            \n",
    "            image.add_header('Content-Disposition', f'attachment; filename={os.path.basename(image_path)}')\n",
    "            \n",
    "            message.attach(image)\n",
    "        \n",
    "        with smtplib.SMTP(\"smtp.gmail.com\", 587) as server:\n",
    "            server.starttls()\n",
    "            server.login(sender_email, password)\n",
    "            server.sendmail(sender_email, receiver_email, message.as_string())\n",
    "        \n",
    "        print(\"Email with image sent successfully!\")\n",
    "    \n",
    "    except FileNotFoundError:\n",
    "        print(f\"Error: The image file '{image_path}' was not found.\")\n",
    "    except Exception as e:\n",
    "        print(f\"Failed to send email. Error: {e}\")\n",
    "\n",
    "if __name__ == \"__main__\":\n",
    "    send_email_with_image()"
   ]
  }
 ],
 "metadata": {
  "kernelspec": {
   "display_name": "raspilum",
   "language": "python",
   "name": "python3"
  },
  "language_info": {
   "codemirror_mode": {
    "name": "ipython",
    "version": 3
   },
   "file_extension": ".py",
   "mimetype": "text/x-python",
   "name": "python",
   "nbconvert_exporter": "python",
   "pygments_lexer": "ipython3",
   "version": "3.10.18"
  }
 },
 "nbformat": 4,
 "nbformat_minor": 5
}
