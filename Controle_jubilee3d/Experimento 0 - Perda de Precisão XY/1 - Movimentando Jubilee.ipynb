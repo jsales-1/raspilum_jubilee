{
 "cells": [
  {
   "cell_type": "code",
   "execution_count": 1,
   "id": "a46c9cc6",
   "metadata": {},
   "outputs": [],
   "source": [
    "import sys\n",
    "import os\n",
    "sys.path.append(os.path.abspath(\"..\"))"
   ]
  },
  {
   "cell_type": "code",
   "execution_count": 2,
   "id": "6296152c",
   "metadata": {},
   "outputs": [],
   "source": [
    "from jubilee_controller import JubileeMotionController\n",
    "import matplotlib.pyplot as plt\n",
    "import time\n",
    "import numpy as np \n",
    "from pynput import keyboard\n",
    "import cv2\n",
    "from datetime import datetime\n",
    "from camera_controller import camera_tool\n",
    "from email_sender import send_email\n",
    "from image_processing import detect_circle\n",
    "from gripper_controller import Gripper"
   ]
  },
  {
   "cell_type": "code",
   "execution_count": 3,
   "id": "4801867f",
   "metadata": {},
   "outputs": [],
   "source": [
    "jubilee = JubileeMotionController()"
   ]
  },
  {
   "cell_type": "code",
   "execution_count": 54,
   "id": "b26ad302",
   "metadata": {},
   "outputs": [
    {
     "name": "stdout",
     "output_type": "stream",
     "text": [
      "Reconectando...\n"
     ]
    }
   ],
   "source": [
    "jubilee.reset()"
   ]
  },
  {
   "cell_type": "code",
   "execution_count": 4,
   "id": "35d87ef1",
   "metadata": {},
   "outputs": [],
   "source": [
    "jubilee.home_all(mesh_mode_z=False)\n",
    "jubilee.protect_tools(on=True)\n",
    "jubilee.move_xyz_absolute(z=50)"
   ]
  },
  {
   "cell_type": "code",
   "execution_count": 24,
   "id": "79c4daaa",
   "metadata": {},
   "outputs": [],
   "source": [
    "camera = camera_tool(jubilee)"
   ]
  },
  {
   "cell_type": "code",
   "execution_count": 25,
   "id": "b9c2a260",
   "metadata": {},
   "outputs": [
    {
     "name": "stdout",
     "output_type": "stream",
     "text": [
      "Desinstale a última ferramenta\n"
     ]
    }
   ],
   "source": [
    "camera.install()"
   ]
  },
  {
   "cell_type": "code",
   "execution_count": 9,
   "id": "58855e2b",
   "metadata": {},
   "outputs": [
    {
     "name": "stdout",
     "output_type": "stream",
     "text": [
      "X:   40.00 | Y:  130.00 | Z:  210.00 || Passo: 10  mm\n",
      "Interrompido\n"
     ]
    }
   ],
   "source": [
    "jubilee.keyboard_controll()"
   ]
  },
  {
   "cell_type": "code",
   "execution_count": 41,
   "id": "91c3d927",
   "metadata": {},
   "outputs": [],
   "source": [
    "import math\n",
    "\n",
    "def tempo_deslocamento(distancia_mm, velocidade_mm_min, aceleracao=1500):\n",
    "\n",
    "    v = velocidade_mm_min / 60  \n",
    "    \n",
    "    # distância necessária para acelerar até v\n",
    "    d_acc = v**2 / (2 * aceleracao)\n",
    "    \n",
    "    if distancia_mm > 2 * d_acc:\n",
    "        # perfil trapezoidal\n",
    "        d_const = distancia_mm - 2 * d_acc\n",
    "        tempo_total = 2 * (v / aceleracao) + (d_const / v)\n",
    "    else:\n",
    "        # perfil triangular\n",
    "        v_max_real = math.sqrt(aceleracao * distancia_mm / 2)\n",
    "        tempo_total = 2 * (v_max_real / aceleracao)\n",
    "    \n",
    "    return tempo_total\n"
   ]
  },
  {
   "cell_type": "code",
   "execution_count": 53,
   "id": "56cdfc08",
   "metadata": {},
   "outputs": [
    {
     "name": "stdout",
     "output_type": "stream",
     "text": [
      "Iteração:0, velocidade:5000\n",
      "Iteração:1, velocidade:5000\n",
      "Iteração:2, velocidade:5000\n",
      "Iteração:3, velocidade:5000\n",
      "Iteração:4, velocidade:5000\n",
      "Iteração:5, velocidade:5000\n",
      "Iteração:6, velocidade:5000\n",
      "Iteração:7, velocidade:5000\n",
      "Iteração:8, velocidade:5000\n",
      "Iteração:9, velocidade:5000\n",
      "Iteração:10, velocidade:5000\n",
      "Iteração:11, velocidade:5000\n",
      "Iteração:12, velocidade:5000\n",
      "Iteração:13, velocidade:5000\n",
      "Iteração:14, velocidade:5000\n",
      "Iteração:15, velocidade:5000\n",
      "Iteração:16, velocidade:5000\n",
      "Iteração:17, velocidade:5000\n",
      "Iteração:18, velocidade:5000\n",
      "Iteração:19, velocidade:5000\n",
      "Iteração:20, velocidade:5000\n",
      "Iteração:21, velocidade:5000\n",
      "Iteração:22, velocidade:5000\n",
      "Iteração:23, velocidade:5000\n",
      "Iteração:24, velocidade:5000\n",
      "Iteração:25, velocidade:5000\n",
      "Iteração:26, velocidade:5000\n",
      "Iteração:27, velocidade:5000\n",
      "Iteração:28, velocidade:5000\n",
      "Iteração:29, velocidade:5000\n",
      "Iteração:30, velocidade:5000\n",
      "Iteração:31, velocidade:5000\n",
      "Iteração:32, velocidade:5000\n",
      "Iteração:33, velocidade:5000\n",
      "Iteração:34, velocidade:5000\n",
      "Iteração:35, velocidade:5000\n",
      "Iteração:36, velocidade:5000\n",
      "Iteração:37, velocidade:5000\n",
      "Iteração:38, velocidade:5000\n",
      "Iteração:39, velocidade:5000\n",
      "Iteração:40, velocidade:5000\n",
      "Iteração:41, velocidade:5000\n",
      "Iteração:42, velocidade:5000\n",
      "Iteração:43, velocidade:5000\n",
      "Iteração:44, velocidade:5000\n",
      "Iteração:45, velocidade:5000\n",
      "Iteração:46, velocidade:5000\n",
      "Iteração:47, velocidade:5000\n",
      "Iteração:48, velocidade:5000\n",
      "Iteração:49, velocidade:5000\n",
      "Iteração:50, velocidade:5000\n",
      "Iteração:51, velocidade:5000\n",
      "Iteração:52, velocidade:5000\n",
      "Iteração:53, velocidade:5000\n",
      "Iteração:54, velocidade:5000\n",
      "Iteração:55, velocidade:5000\n",
      "Iteração:56, velocidade:5000\n",
      "Iteração:57, velocidade:5000\n",
      "Iteração:58, velocidade:5000\n",
      "Iteração:59, velocidade:5000\n",
      "Iteração:60, velocidade:5000\n",
      "Iteração:61, velocidade:5000\n",
      "Iteração:62, velocidade:5000\n",
      "Iteração:63, velocidade:5000\n",
      "Iteração:64, velocidade:5000\n",
      "Iteração:65, velocidade:5000\n",
      "Iteração:66, velocidade:5000\n",
      "Iteração:67, velocidade:5000\n",
      "Iteração:68, velocidade:5000\n",
      "Iteração:69, velocidade:5000\n",
      "Iteração:70, velocidade:5000\n",
      "Iteração:71, velocidade:5000\n",
      "Iteração:72, velocidade:5000\n",
      "Iteração:73, velocidade:5000\n",
      "Iteração:74, velocidade:5000\n",
      "Iteração:75, velocidade:5000\n",
      "Iteração:76, velocidade:5000\n",
      "Iteração:77, velocidade:5000\n",
      "Iteração:78, velocidade:5000\n",
      "Iteração:79, velocidade:5000\n",
      "Iteração:80, velocidade:5000\n",
      "Iteração:81, velocidade:5000\n",
      "Iteração:82, velocidade:5000\n",
      "Iteração:83, velocidade:5000\n",
      "Iteração:84, velocidade:5000\n",
      "Iteração:85, velocidade:5000\n",
      "Iteração:86, velocidade:5000\n",
      "Iteração:87, velocidade:5000\n",
      "Iteração:88, velocidade:5000\n",
      "Iteração:89, velocidade:5000\n",
      "Iteração:90, velocidade:5000\n",
      "Iteração:91, velocidade:5000\n",
      "Iteração:92, velocidade:5000\n",
      "Iteração:93, velocidade:5000\n",
      "Iteração:94, velocidade:5000\n",
      "Iteração:95, velocidade:5000\n",
      "Iteração:96, velocidade:5000\n",
      "Iteração:97, velocidade:5000\n",
      "Iteração:98, velocidade:5000\n"
     ]
    },
    {
     "ename": "KeyboardInterrupt",
     "evalue": "",
     "output_type": "error",
     "traceback": [
      "\u001b[0;31m---------------------------------------------------------------------------\u001b[0m",
      "\u001b[0;31mKeyboardInterrupt\u001b[0m                         Traceback (most recent call last)",
      "Cell \u001b[0;32mIn[53], line 59\u001b[0m\n\u001b[1;32m     57\u001b[0m \u001b[38;5;28;01mfor\u001b[39;00m j \u001b[38;5;129;01min\u001b[39;00m \u001b[38;5;28mrange\u001b[39m(\u001b[38;5;241m5\u001b[39m):\n\u001b[1;32m     58\u001b[0m     camera\u001b[38;5;241m.\u001b[39mphoto(os\u001b[38;5;241m.\u001b[39mpath\u001b[38;5;241m.\u001b[39mjoin(pasta, \u001b[38;5;124mf\u001b[39m\u001b[38;5;124m\"\u001b[39m\u001b[38;5;124mposicao_1_distancia_\u001b[39m\u001b[38;5;132;01m{\u001b[39;00mdistancia_total\u001b[38;5;132;01m}\u001b[39;00m\u001b[38;5;124m_e_\u001b[39m\u001b[38;5;132;01m{\u001b[39;00mi\u001b[38;5;132;01m}\u001b[39;00m\u001b[38;5;124m_t\u001b[39m\u001b[38;5;132;01m{\u001b[39;00mj\u001b[38;5;132;01m}\u001b[39;00m\u001b[38;5;124m.png\u001b[39m\u001b[38;5;124m\"\u001b[39m), video_index\u001b[38;5;241m=\u001b[39mvideo)\n\u001b[0;32m---> 59\u001b[0m     \u001b[43mtime\u001b[49m\u001b[38;5;241;43m.\u001b[39;49m\u001b[43msleep\u001b[49m\u001b[43m(\u001b[49m\u001b[38;5;241;43m2\u001b[39;49m\u001b[43m)\u001b[49m\n",
      "\u001b[0;31mKeyboardInterrupt\u001b[0m: "
     ]
    }
   ],
   "source": [
    "import os\n",
    "import time\n",
    "\n",
    "velocidades = [5000,10000,18000]\n",
    "distancia_total = 0\n",
    "\n",
    "pos1 = (50.0, 130.0, 210.0)\n",
    "pos2 = (270.0, 390.0, 210.0)\n",
    "\n",
    "n_repeticoes = 300\n",
    "\n",
    "for velocidade in velocidades:\n",
    "    jubilee.home_xy()\n",
    "    jubilee.move_xyz_absolute(z=pos1[2])\n",
    "    time.sleep(20)\n",
    "\n",
    "    pasta = f\"Imagens/velocidade_{velocidade}\"\n",
    "    os.makedirs(pasta, exist_ok=True)\n",
    "\n",
    "    distancia_total = 0  \n",
    "    video = 3\n",
    "\n",
    "    pos_atual = jubilee.position\n",
    "\n",
    "    dx = pos2[0] - pos1[0]\n",
    "    dy = pos2[1] - pos1[1]\n",
    "    dz = pos2[2] - pos1[2]\n",
    "\n",
    "    corr_x = pos_atual[0] - pos1[0]\n",
    "    corr_y = pos_atual[1] - pos1[1]\n",
    "    corr_z = pos_atual[2] - pos1[2]\n",
    "\n",
    "    dx_corrigido = dx + corr_x\n",
    "    dy_corrigido = dy + corr_y\n",
    "    dz_corrigido = dz + corr_z\n",
    "\n",
    "    distancia = round((dx_corrigido**2 + dy_corrigido**2 + dz_corrigido**2)**0.5, 2)\n",
    "\n",
    "    tempo_movimento = tempo_deslocamento(distancia, velocidade) + 1\n",
    "\n",
    "    for i in range(n_repeticoes): \n",
    "        print(f\"Iteração:{i}, velocidade:{velocidade}\")\n",
    "\n",
    "        jubilee.move_xyz_absolute(x=pos1[0], y=pos1[1], z=pos1[2], velocity=velocidade)\n",
    "        time.sleep(tempo_movimento)\n",
    "        distancia_total += distancia\n",
    "        for j in range(3):\n",
    "            camera.photo(os.path.join(pasta, f\"posicao_0_distancia_{distancia_total}_e_{i}_t{j}.png\"), video_index=video)\n",
    "            time.sleep(2)\n",
    "\n",
    "        distancia = round(((pos2[0]-pos1[0])**2 + (pos2[1]-pos1[1])**2)**0.5, 2)\n",
    "        distancia_total += distancia\n",
    "        tempo_movimento = tempo_deslocamento(distancia, velocidade) + 1\n",
    "\n",
    "        jubilee.move_xyz_absolute(x=pos2[0], y=pos2[1], z=pos2[2], velocity=velocidade)\n",
    "        time.sleep(tempo_movimento)\n",
    "        for j in range(5):\n",
    "            camera.photo(os.path.join(pasta, f\"posicao_1_distancia_{distancia_total}_e_{i}_t{j}.png\"), video_index=video)\n",
    "            time.sleep(2)\n"
   ]
  },
  {
   "cell_type": "code",
   "execution_count": null,
   "id": "dcd254fd",
   "metadata": {},
   "outputs": [],
   "source": []
  }
 ],
 "metadata": {
  "kernelspec": {
   "display_name": "raspilum",
   "language": "python",
   "name": "python3"
  },
  "language_info": {
   "codemirror_mode": {
    "name": "ipython",
    "version": 3
   },
   "file_extension": ".py",
   "mimetype": "text/x-python",
   "name": "python",
   "nbconvert_exporter": "python",
   "pygments_lexer": "ipython3",
   "version": "3.10.18"
  }
 },
 "nbformat": 4,
 "nbformat_minor": 5
}
