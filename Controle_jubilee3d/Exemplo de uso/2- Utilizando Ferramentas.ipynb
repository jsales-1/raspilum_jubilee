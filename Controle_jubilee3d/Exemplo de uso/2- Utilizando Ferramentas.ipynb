{
 "cells": [
  {
   "cell_type": "markdown",
   "id": "513861cf",
   "metadata": {},
   "source": [
    "<h1><p align = 'center'> Use o ambiente \"raspilum\" (Python 3.10.18)</h4></p>\n"
   ]
  },
  {
   "cell_type": "code",
   "execution_count": 1,
   "id": "a46c9cc6",
   "metadata": {},
   "outputs": [],
   "source": [
    "import sys\n",
    "import os\n",
    "sys.path.append(os.path.abspath(\"..\"))"
   ]
  },
  {
   "cell_type": "code",
   "execution_count": 2,
   "id": "6296152c",
   "metadata": {},
   "outputs": [],
   "source": [
    "from jubilee_controller import JubileeMotionController\n",
    "import matplotlib.pyplot as plt\n",
    "import time\n",
    "import numpy as np \n",
    "from pynput import keyboard\n",
    "import cv2\n",
    "from datetime import datetime\n",
    "from camera_controller import camera_tool\n",
    "from email_sender import send_email\n",
    "from image_processing import detect_circle\n",
    "from gripper_controller import Gripper"
   ]
  },
  {
   "cell_type": "code",
   "execution_count": 3,
   "id": "4801867f",
   "metadata": {},
   "outputs": [],
   "source": [
    "jubilee = JubileeMotionController()"
   ]
  },
  {
   "cell_type": "code",
   "execution_count": 6,
   "id": "b26ad302",
   "metadata": {},
   "outputs": [
    {
     "name": "stdout",
     "output_type": "stream",
     "text": [
      "Reconectando...\n"
     ]
    }
   ],
   "source": [
    "jubilee.reset()"
   ]
  },
  {
   "cell_type": "markdown",
   "id": "1b0d7ef1",
   "metadata": {},
   "source": [
    "<h5> <P align='justify'>Para  calibrar a máquina, basta usar o método \"home_all\", ele é responsável por calibrar todos os eixos da máquina. Ao rodar a célula a seguir, a máquina vai calibrar o eixo y e x voltando a guia linear até encontrar o sensor de fim de curso. Em seguida, ele vai abrir uma janela perguntando se a mesa está livre e vai fazer a calibração do z. Ressalto que o modo mesh_mode_z serve para fazer ou não o alinhamento da mesa, geralmente não é necessário fazer, a menos que, esteja visivelmente desalinhada. Após o alinhamento do z, o do sistema de troca de ferramentas será feito. </p></h5>"
   ]
  },
  {
   "cell_type": "code",
   "execution_count": 7,
   "id": "35d87ef1",
   "metadata": {},
   "outputs": [],
   "source": [
    "jubilee.home_all(mesh_mode_z=False)\n",
    "jubilee.protect_tools(on=True)\n",
    "jubilee.move_xyz_absolute(z=50)"
   ]
  },
  {
   "cell_type": "markdown",
   "id": "78cf8424",
   "metadata": {},
   "source": [
    "<h5> <P align='justify'> As células a seguir fazem a defição o objeto da câmera e sua instalação</p></h5>"
   ]
  },
  {
   "cell_type": "code",
   "execution_count": 8,
   "id": "1c204bf7",
   "metadata": {},
   "outputs": [],
   "source": [
    "camera = camera_tool(jubilee)"
   ]
  },
  {
   "cell_type": "code",
   "execution_count": 9,
   "id": "6ab51779",
   "metadata": {},
   "outputs": [],
   "source": [
    "camera.install()"
   ]
  },
  {
   "cell_type": "markdown",
   "id": "721e6352",
   "metadata": {},
   "source": [
    "<h5> <P align='justify'> Usando o método \"photo\" salva a imagem. É necesário ajustar o foco antes, então recomendo que ative o ambiente <code>raspilum</code> no terminal e rode o código <code>camera.py</code>. Isso deve abrir o vídeo da câmera de forma contínua em outra janela. Depois de ajustar, pode fechar o vídeo apertando a tecla \"q\". Para tirar fotos com a câmera, use o comando \"photo\", como exemplificado a baixo.</p></h5>\n"
   ]
  },
  {
   "cell_type": "code",
   "execution_count": 10,
   "id": "de25da04",
   "metadata": {},
   "outputs": [],
   "source": [
    "camera.photo(\"nome_qualquer.png\")"
   ]
  },
  {
   "cell_type": "markdown",
   "id": "f43576bb",
   "metadata": {},
   "source": [
    "<h5> <P align='justify'>Após o uso, guarde a ferramenta usando o método <code>uninstall</code>.</p></h5>\n"
   ]
  },
  {
   "cell_type": "code",
   "execution_count": 15,
   "id": "f6136396",
   "metadata": {},
   "outputs": [],
   "source": [
    "camera.uninstall()"
   ]
  }
 ],
 "metadata": {
  "kernelspec": {
   "display_name": "raspilum",
   "language": "python",
   "name": "python3"
  },
  "language_info": {
   "codemirror_mode": {
    "name": "ipython",
    "version": 3
   },
   "file_extension": ".py",
   "mimetype": "text/x-python",
   "name": "python",
   "nbconvert_exporter": "python",
   "pygments_lexer": "ipython3",
   "version": "3.10.18"
  }
 },
 "nbformat": 4,
 "nbformat_minor": 5
}
