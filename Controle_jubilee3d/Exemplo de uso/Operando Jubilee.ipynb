{
 "cells": [
  {
   "cell_type": "markdown",
   "id": "403abfa7",
   "metadata": {},
   "source": [
    "#### Devido a organização das pastas, uso as bibliotecas \"os\" e \"sys\" para definidir o local como sendo na pasta anterior, a \"Controle_jubilee\""
   ]
  },
  {
   "cell_type": "code",
   "execution_count": 39,
   "id": "a46c9cc6",
   "metadata": {},
   "outputs": [],
   "source": [
    "import sys\n",
    "import os\n",
    "sys.path.append(os.path.abspath(\"..\"))"
   ]
  },
  {
   "cell_type": "markdown",
   "id": "7a092a4b",
   "metadata": {},
   "source": [
    "#### Em seguida, faço a importação os objetos e funções dos scripts Python. Recomendo que acesse esses arquivo .py para conferir melhor as "
   ]
  },
  {
   "cell_type": "code",
   "execution_count": 40,
   "id": "6296152c",
   "metadata": {},
   "outputs": [],
   "source": [
    "from jubilee_controller import JubileeMotionController\n",
    "import matplotlib.pyplot as plt\n",
    "import time\n",
    "import numpy as np \n",
    "from pynput import keyboard\n",
    "import cv2\n",
    "from datetime import datetime\n",
    "from camera_controller import camera_tool\n",
    "from email_sender import send_email\n",
    "from image_processing import detect_circle"
   ]
  },
  {
   "cell_type": "code",
   "execution_count": null,
   "id": "1eec43b8",
   "metadata": {},
   "outputs": [],
   "source": [
    "#### Em seguida, faço a importação os objetos e funções dos scripts Python. Recomendo que acesse esses arquivo .py para conferir melhor as "
   ]
  },
  {
   "cell_type": "code",
   "execution_count": 41,
   "id": "4801867f",
   "metadata": {},
   "outputs": [],
   "source": [
    "jubilee = JubileeMotionController()"
   ]
  },
  {
   "cell_type": "code",
   "execution_count": 69,
   "id": "b26ad302",
   "metadata": {},
   "outputs": [
    {
     "name": "stdout",
     "output_type": "stream",
     "text": [
      "Reconnecting...\n"
     ]
    }
   ],
   "source": [
    "jubilee.reset()"
   ]
  },
  {
   "cell_type": "code",
   "execution_count": null,
   "id": "35d87ef1",
   "metadata": {},
   "outputs": [],
   "source": [
    "jubilee.home_all(mesh_mode_z=False)\n",
    "jubilee.move_xyz_absolute(z=100)"
   ]
  },
  {
   "cell_type": "code",
   "execution_count": 7,
   "id": "cccce266",
   "metadata": {},
   "outputs": [
    {
     "name": "stdout",
     "output_type": "stream",
     "text": [
      "X:  160.00 | Y:  200.00 | Z:   70.00 || Passo: 10  mm\n",
      " Interrompido\n"
     ]
    }
   ],
   "source": [
    "jubilee.controlar_jubilee()"
   ]
  },
  {
   "cell_type": "code",
   "execution_count": 36,
   "id": "1c204bf7",
   "metadata": {},
   "outputs": [],
   "source": [
    "camera = camera_tool(jubilee)"
   ]
  },
  {
   "cell_type": "code",
   "execution_count": null,
   "id": "6ab51779",
   "metadata": {},
   "outputs": [],
   "source": [
    "camera.uninstall()"
   ]
  }
 ],
 "metadata": {
  "kernelspec": {
   "display_name": "raspilum",
   "language": "python",
   "name": "python3"
  },
  "language_info": {
   "codemirror_mode": {
    "name": "ipython",
    "version": 3
   },
   "file_extension": ".py",
   "mimetype": "text/x-python",
   "name": "python",
   "nbconvert_exporter": "python",
   "pygments_lexer": "ipython3",
   "version": "3.10.18"
  }
 },
 "nbformat": 4,
 "nbformat_minor": 5
}
