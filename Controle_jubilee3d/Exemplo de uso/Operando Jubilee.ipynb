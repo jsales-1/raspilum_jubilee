{
 "cells": [
  {
   "cell_type": "markdown",
   "id": "403abfa7",
   "metadata": {},
   "source": [
    "#### Devido a organização das pastas, uso as bibliotecas \"os\" e \"sys\" para definidir o local como sendo na pasta anterior, a \"Controle_jubilee\""
   ]
  },
  {
   "cell_type": "code",
   "execution_count": 1,
   "id": "a46c9cc6",
   "metadata": {},
   "outputs": [],
   "source": [
    "import sys\n",
    "import os\n",
    "sys.path.append(os.path.abspath(\"..\"))"
   ]
  },
  {
   "cell_type": "markdown",
   "id": "7a092a4b",
   "metadata": {},
   "source": [
    "#### Em seguida, faço a importação os objetos e funções dos scripts Python. Recomendo que acesse esses arquivo .py para conferir melhor as "
   ]
  },
  {
   "cell_type": "code",
   "execution_count": 2,
   "id": "6296152c",
   "metadata": {},
   "outputs": [],
   "source": [
    "from jubilee_controller import JubileeMotionController\n",
    "import matplotlib.pyplot as plt\n",
    "import time\n",
    "import numpy as np \n",
    "from pynput import keyboard\n",
    "import cv2\n",
    "from datetime import datetime\n",
    "from camera_controller import camera_tool\n",
    "from email_sender import send_email\n",
    "from image_processing import detect_circle"
   ]
  },
  {
   "cell_type": "code",
   "execution_count": 3,
   "id": "4801867f",
   "metadata": {},
   "outputs": [],
   "source": [
    "jubilee = JubileeMotionController()"
   ]
  },
  {
   "cell_type": "code",
   "execution_count": null,
   "id": "911ff8c5",
   "metadata": {},
   "outputs": [],
   "source": [
    "#jubilee.reset()"
   ]
  },
  {
   "cell_type": "code",
   "execution_count": 6,
   "id": "35d87ef1",
   "metadata": {},
   "outputs": [
    {
     "ename": "IndexError",
     "evalue": "list assignment index out of range",
     "output_type": "error",
     "traceback": [
      "\u001b[0;31m---------------------------------------------------------------------------\u001b[0m",
      "\u001b[0;31mIndexError\u001b[0m                                Traceback (most recent call last)",
      "Cell \u001b[0;32mIn[6], line 1\u001b[0m\n\u001b[0;32m----> 1\u001b[0m \u001b[43mjubilee\u001b[49m\u001b[38;5;241;43m.\u001b[39;49m\u001b[43mhome_all\u001b[49m\u001b[43m(\u001b[49m\u001b[43mmesh_mode_z\u001b[49m\u001b[38;5;241;43m=\u001b[39;49m\u001b[43m \u001b[49m\u001b[38;5;28;43;01mFalse\u001b[39;49;00m\u001b[43m)\u001b[49m\n",
      "File \u001b[0;32m~/Documentos/IC/raspilum_jubilee/Controle_jubilee3d/jubilee_controller.py:153\u001b[0m, in \u001b[0;36mJubileeMotionController.home_all\u001b[0;34m(self, mesh_mode_z)\u001b[0m\n\u001b[1;32m    151\u001b[0m \u001b[38;5;28;01mdef\u001b[39;00m\u001b[38;5;250m \u001b[39m\u001b[38;5;21mhome_all\u001b[39m(\u001b[38;5;28mself\u001b[39m,mesh_mode_z\u001b[38;5;241m=\u001b[39m\u001b[38;5;28;01mTrue\u001b[39;00m):\n\u001b[1;32m    152\u001b[0m     \u001b[38;5;28mself\u001b[39m\u001b[38;5;241m.\u001b[39mhome_xy()\n\u001b[0;32m--> 153\u001b[0m     \u001b[38;5;28;43mself\u001b[39;49m\u001b[38;5;241;43m.\u001b[39;49m\u001b[43mhome_z\u001b[49m\u001b[43m(\u001b[49m\u001b[43mmesh_mode_z\u001b[49m\u001b[43m)\u001b[49m\n\u001b[1;32m    154\u001b[0m     \u001b[38;5;28mself\u001b[39m\u001b[38;5;241m.\u001b[39mhome_u()\n",
      "File \u001b[0;32m~/Documentos/IC/raspilum_jubilee/Controle_jubilee3d/jubilee_controller.py:189\u001b[0m, in \u001b[0;36mJubileeMotionController.home_z\u001b[0;34m(self, mesh_mode)\u001b[0m\n\u001b[1;32m    185\u001b[0m         \u001b[38;5;28mself\u001b[39m\u001b[38;5;241m.\u001b[39mgcode(\u001b[38;5;124m'\u001b[39m\u001b[38;5;124mM98 P\u001b[39m\u001b[38;5;124m\"\u001b[39m\u001b[38;5;124m/sys/homez_NM.g\u001b[39m\u001b[38;5;124m\"\u001b[39m\u001b[38;5;124m'\u001b[39m)\n\u001b[1;32m    188\u001b[0m \u001b[38;5;28mself\u001b[39m\u001b[38;5;241m.\u001b[39maxes_homed[\u001b[38;5;241m2\u001b[39m] \u001b[38;5;241m=\u001b[39m \u001b[38;5;28;01mTrue\u001b[39;00m\n\u001b[0;32m--> 189\u001b[0m \u001b[38;5;28;43mself\u001b[39;49m\u001b[38;5;241;43m.\u001b[39;49m\u001b[43maxes_homed\u001b[49m\u001b[43m[\u001b[49m\u001b[38;5;241;43m3\u001b[39;49m\u001b[43m]\u001b[49m \u001b[38;5;241m=\u001b[39m \u001b[38;5;28;01mTrue\u001b[39;00m\n",
      "\u001b[0;31mIndexError\u001b[0m: list assignment index out of range"
     ]
    }
   ],
   "source": [
    "jubilee.home_all(mesh_mode_z= False)"
   ]
  },
  {
   "cell_type": "code",
   "execution_count": 7,
   "id": "87f8b60f",
   "metadata": {},
   "outputs": [],
   "source": [
    "jubilee.move_xyz_absolute(z=50)"
   ]
  },
  {
   "cell_type": "code",
   "execution_count": 9,
   "id": "cccce266",
   "metadata": {},
   "outputs": [
    {
     "name": "stdout",
     "output_type": "stream",
     "text": [
      "X:  170.00 | Y:  210.00 | Z:   55.00 || Passo: 10  mm\n",
      " Interrompido\n"
     ]
    }
   ],
   "source": [
    "jubilee.controlar_jubilee()"
   ]
  },
  {
   "cell_type": "code",
   "execution_count": null,
   "id": "f01f156b",
   "metadata": {},
   "outputs": [],
   "source": []
  }
 ],
 "metadata": {
  "kernelspec": {
   "display_name": "raspilum",
   "language": "python",
   "name": "python3"
  },
  "language_info": {
   "codemirror_mode": {
    "name": "ipython",
    "version": 3
   },
   "file_extension": ".py",
   "mimetype": "text/x-python",
   "name": "python",
   "nbconvert_exporter": "python",
   "pygments_lexer": "ipython3",
   "version": "3.10.18"
  }
 },
 "nbformat": 4,
 "nbformat_minor": 5
}
