{
 "cells": [
  {
   "cell_type": "markdown",
   "id": "513861cf",
   "metadata": {},
   "source": [
    "<h1><p align = 'center'> <strong >Saravá<br></strong>Use o ambiente \"raspilum\" (Python 3.10.18)</h4></p>\n"
   ]
  },
  {
   "cell_type": "markdown",
   "id": "403abfa7",
   "metadata": {},
   "source": [
    "<h5>Devido a organização das pastas, uso as bibliotecas \"os\" e \"sys\" para definidir o local como sendo na pasta anterior, a \"Controle_jubilee\"</h5>"
   ]
  },
  {
   "cell_type": "code",
   "execution_count": 1,
   "id": "a46c9cc6",
   "metadata": {},
   "outputs": [],
   "source": [
    "import sys\n",
    "import os\n",
    "sys.path.append(os.path.abspath(\"..\"))"
   ]
  },
  {
   "cell_type": "markdown",
   "id": "7a092a4b",
   "metadata": {},
   "source": [
    "<h5> Em seguida, faço a importação os objetos e funções dos scripts Python. Recomendo que acesse esses arquivo .py para conferir melhor os métodos das classes que representam o sistema</h5>"
   ]
  },
  {
   "cell_type": "code",
   "execution_count": 2,
   "id": "6296152c",
   "metadata": {},
   "outputs": [],
   "source": [
    "from jubilee_controller import JubileeMotionController\n",
    "import matplotlib.pyplot as plt\n",
    "import time\n",
    "import numpy as np \n",
    "from pynput import keyboard\n",
    "import cv2\n",
    "from datetime import datetime\n",
    "from camera_controller import camera_tool\n",
    "from email_sender import send_email\n",
    "from image_processing import detect_circle"
   ]
  },
  {
   "cell_type": "markdown",
   "id": "a261305e",
   "metadata": {},
   "source": [
    "<h5> Nas duas células a seguir, defino a instância da classe JubileeMotionController e faço um reset da máquina. O reset não é necessário sempre, rode essa células apenas se algum motor não responder durante a calibração.</h5>"
   ]
  },
  {
   "cell_type": "code",
   "execution_count": 3,
   "id": "4801867f",
   "metadata": {},
   "outputs": [],
   "source": [
    "jubilee = JubileeMotionController()"
   ]
  },
  {
   "cell_type": "code",
   "execution_count": 6,
   "id": "b26ad302",
   "metadata": {},
   "outputs": [
    {
     "name": "stdout",
     "output_type": "stream",
     "text": [
      "Reconectando...\n"
     ]
    }
   ],
   "source": [
    "jubilee.reset()"
   ]
  },
  {
   "cell_type": "markdown",
   "id": "1b0d7ef1",
   "metadata": {},
   "source": [
    "<h5> <P align='justify'>Para  calibrar a máquina, basta usar o método \"home_all\", ele é responsável por calibrar todos os eixos da máquina. Ao rodar a célula a seguir, a máquina vai calibrar o eixo y e x voltando a guia linear até encontrar o sensor de fim de curso. Em seguida, ele vai abrir uma janela perguntando se a mesa está livre e vai fazer a calibração do z. Ressalto que o modo mesh_mode_z serve para fazer ou não o alinhamento da mesa, geralmente não é necessário fazer, a menos que, esteja visivelmente desalinhada. Após o alinhamento do z, o do sistema de troca de ferramentas será feito. </p></h5>"
   ]
  },
  {
   "cell_type": "code",
   "execution_count": 1,
   "id": "35d87ef1",
   "metadata": {},
   "outputs": [
    {
     "ename": "NameError",
     "evalue": "name 'jubilee' is not defined",
     "output_type": "error",
     "traceback": [
      "\u001b[0;31m---------------------------------------------------------------------------\u001b[0m",
      "\u001b[0;31mNameError\u001b[0m                                 Traceback (most recent call last)",
      "Cell \u001b[0;32mIn[1], line 1\u001b[0m\n\u001b[0;32m----> 1\u001b[0m \u001b[43mjubilee\u001b[49m\u001b[38;5;241m.\u001b[39mhome_all(mesh_mode_z\u001b[38;5;241m=\u001b[39m\u001b[38;5;28;01mFalse\u001b[39;00m)\n\u001b[1;32m      2\u001b[0m jubilee\u001b[38;5;241m.\u001b[39mprotect_tools(on\u001b[38;5;241m=\u001b[39m\u001b[38;5;28;01mTrue\u001b[39;00m)\n\u001b[1;32m      3\u001b[0m jubilee\u001b[38;5;241m.\u001b[39mmove_xyz_absolute(z\u001b[38;5;241m=\u001b[39m\u001b[38;5;241m50\u001b[39m)\n",
      "\u001b[0;31mNameError\u001b[0m: name 'jubilee' is not defined"
     ]
    }
   ],
   "source": [
    "jubilee.home_all(mesh_mode_z=False)\n",
    "jubilee.protect_tools(on=True)\n",
    "jubilee.move_xyz_absolute(z=50)"
   ]
  },
  {
   "cell_type": "markdown",
   "id": "e573a095",
   "metadata": {},
   "source": [
    "<h5>\n",
    "<p align='justify'>\n",
    "Você pode usar os métodos move_xyz_absolute e move_xyz_relative para controlar a posição do sistema. No modo absoluto, cada coordenada representa a posição global da plataforma, ou seja, a máquina se move exatamente para a posição especificada no espaço. Já no modo relativo, os movimentos são calculados a partir da posição atual, então, por exemplo, um comando como (10, 0, -20) fará com que a plataforma se desloque 10 mm para a direita em X e suba 20 mm em Z a partir da posição atual. A imagem a seguir mostra o sistema na posição (0, 50, 0).\n",
    "</p>\n",
    "</h5>\n",
    "\n",
    "<p align=\"center\">\n",
    "  <img src=\"https://raw.githubusercontent.com/jsales-1/raspilum_jubilee/main/Imagens%20Readme/sentidos_jubilee.jpg\" width=\"400\"><br>\n",
    "  <em>Exemplo da plataforma na posição (0,50,0).</em>\n",
    "</p>\n",
    "\n",
    "\n",
    "<h5>\n",
    "<p align='justify'>\n",
    "O método keyboard_controll permite controlar o sistema diretamente pelo teclado. As setas direcionais movimentam a plataforma: a seta para cima move em Y para frente, a seta para baixo move em Y para trás, a seta para a esquerda move em X para a esquerda e a seta para a direita move em X para a direita. As teclas \"Page Up\" e \"Page Down\" movimentam a plataforma para cima e para baixo no eixo Z. Com as teclas + e - você pode aumentar ou diminuir o tamanho do passo, que determina a distância percorrida em cada movimento. Para encerrar o controle pelo teclado, basta pressionar a tecla \"esc\" ou interromper a célula. Durante o uso, a posição atual da plataforma e o passo configurado são exibidos em tempo real no console.\n",
    "</p>\n",
    "</h5>\n"
   ]
  },
  {
   "cell_type": "code",
   "execution_count": null,
   "id": "cccce266",
   "metadata": {},
   "outputs": [
    {
     "name": "stdout",
     "output_type": "stream",
     "text": [
      "X:   90.00 | Y:  230.00 | Z:  300.00 || Passo: 10  mm\n",
      "Interrompido\n"
     ]
    }
   ],
   "source": [
    "jubilee.keyboard_controll()"
   ]
  },
  {
   "cell_type": "markdown",
   "id": "78cf8424",
   "metadata": {},
   "source": [
    "<h5> <P align='justify'> As células a seguir definente o objeto da câmera a fazem sua instalação</p></h5>"
   ]
  },
  {
   "cell_type": "code",
   "execution_count": null,
   "id": "1c204bf7",
   "metadata": {},
   "outputs": [],
   "source": [
    "camera = camera_tool(jubilee)"
   ]
  },
  {
   "cell_type": "code",
   "execution_count": null,
   "id": "6ab51779",
   "metadata": {},
   "outputs": [],
   "source": [
    "camera.install()"
   ]
  },
  {
   "cell_type": "code",
   "execution_count": 15,
   "id": "519c4497",
   "metadata": {},
   "outputs": [],
   "source": [
    "garra = Gripper(jubilee)"
   ]
  },
  {
   "cell_type": "code",
   "execution_count": 20,
   "id": "b7781ecc",
   "metadata": {},
   "outputs": [],
   "source": [
    "garra.uninstall()"
   ]
  },
  {
   "cell_type": "code",
   "execution_count": 18,
   "id": "710d823b",
   "metadata": {},
   "outputs": [],
   "source": [
    "garra.open_angles(90)"
   ]
  },
  {
   "cell_type": "code",
   "execution_count": 19,
   "id": "0d7e68e6",
   "metadata": {},
   "outputs": [],
   "source": [
    "jubilee.move_xyz_absolute(z=140)"
   ]
  }
 ],
 "metadata": {
  "kernelspec": {
   "display_name": "raspilum",
   "language": "python",
   "name": "python3"
  },
  "language_info": {
   "codemirror_mode": {
    "name": "ipython",
    "version": 3
   },
   "file_extension": ".py",
   "mimetype": "text/x-python",
   "name": "python",
   "nbconvert_exporter": "python",
   "pygments_lexer": "ipython3",
   "version": "3.10.18"
  }
 },
 "nbformat": 4,
 "nbformat_minor": 5
}
