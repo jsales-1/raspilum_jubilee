{
 "cells": [
  {
   "cell_type": "markdown",
   "id": "513861cf",
   "metadata": {},
   "source": [
    "<h1><p align = 'center'> <strong >Saravá<br></strong>Use o ambiente \"raspilum\" (Python 3.10.18)</h4></p>\n"
   ]
  },
  {
   "cell_type": "markdown",
   "id": "403abfa7",
   "metadata": {},
   "source": [
    "<h5>Devido a organização das pastas, uso as bibliotecas \"os\" e \"sys\" para definidir o local como sendo na pasta anterior, a \"Controle_jubilee\"</h5>"
   ]
  },
  {
   "cell_type": "code",
   "execution_count": 6,
   "id": "a46c9cc6",
   "metadata": {},
   "outputs": [],
   "source": [
    "import sys\n",
    "import os\n",
    "sys.path.append(os.path.abspath(\"..\"))"
   ]
  },
  {
   "cell_type": "markdown",
   "id": "7a092a4b",
   "metadata": {},
   "source": [
    "<h5> Em seguida, faço a importação os objetos e funções dos scripts Python. Recomendo que acesse esses arquivo .py para conferir melhor os métodos das classes que representam o sistema</h5>"
   ]
  },
  {
   "cell_type": "code",
   "execution_count": 7,
   "id": "6296152c",
   "metadata": {},
   "outputs": [],
   "source": [
    "from jubilee_controller import JubileeMotionController\n",
    "import matplotlib.pyplot as plt\n",
    "import time\n",
    "import numpy as np \n",
    "from pynput import keyboard\n",
    "import cv2\n",
    "from datetime import datetime\n",
    "from camera_controller import camera_tool\n",
    "from email_sender import send_email\n",
    "from image_processing import detect_circle"
   ]
  },
  {
   "cell_type": "markdown",
   "id": "a261305e",
   "metadata": {},
   "source": [
    "<h5> Nas duas células a seguir, defino a instância da classe JubileeMotionController e faço um reset da máquina. O reset não é necessário sempre, rode essa células apenas se algum motor não responder durante a calibração.</h5>"
   ]
  },
  {
   "cell_type": "code",
   "execution_count": 3,
   "id": "4801867f",
   "metadata": {},
   "outputs": [],
   "source": [
    "jubilee = JubileeMotionController()"
   ]
  },
  {
   "cell_type": "code",
   "execution_count": null,
   "id": "b26ad302",
   "metadata": {},
   "outputs": [
    {
     "name": "stdout",
     "output_type": "stream",
     "text": [
      "Reconnecting...\n"
     ]
    }
   ],
   "source": [
    "jubilee.reset()"
   ]
  },
  {
   "cell_type": "markdown",
   "id": "1b0d7ef1",
   "metadata": {},
   "source": [
    "<h5> <P align='justify'>Para  calibrar a máquina, basta usar o método \"home_all\", ele é responsável por calibrar todos os eixos da máquina. Ao rodar a célula a seguir, a máquina vai calibrar o eixo y e x voltando a guia linear até encontrar o sensor de fim de curso. Em seguida, ele vai abrir uma janela perguntando se a mesa está livre e vai fazer a calibração do z. Ressalto que o modo mesh_mode_z serve para fazer ou não o alinhamento da mesa, geralmente não é necessário fazer, a menos que, esteja visivelmente desalinhada. Após o alinhamento do z, o do sistema de troca de ferramentas será feito. </p></h5>"
   ]
  },
  {
   "cell_type": "code",
   "execution_count": 4,
   "id": "35d87ef1",
   "metadata": {},
   "outputs": [],
   "source": [
    "jubilee.home_all(mesh_mode_z=False)\n",
    "jubilee.protect_tools(on=True)\n",
    "jubilee.move_xyz_absolute(z=50)"
   ]
  },
  {
   "cell_type": "markdown",
   "id": "e573a095",
   "metadata": {},
   "source": [
    "<h5>\n",
    "<p align='justify'>\n",
    "Você pode usar os métodos move_xyz_absolute e move_xyz_relative para controlar a posição do sistema. No modo absoluto, cada coordenada representa a posição global da plataforma, ou seja, a máquina se move exatamente para a posição especificada no espaço. Já no modo relativo, os movimentos são calculados a partir da posição atual, então, por exemplo, um comando como (10, 0, -20) fará com que a plataforma se desloque 10 mm para a direita em X e suba 20 mm em Z a partir da posição atual. A imagem a seguir mostra o sistema na posição (0, 50, 0).\n",
    "</p>\n",
    "</h5>\n",
    "\n",
    "<p align=\"center\">\n",
    "  <img src=\"https://raw.githubusercontent.com/jsales-1/raspilum_jubilee/main/Imagens%20Readme/sentidos_jubilee.jpg\" width=\"400\"><br>\n",
    "  <em>Exemplo da plataforma na posição (0,50,0).</em>\n",
    "</p>\n",
    "\n",
    "\n",
    "<h5>\n",
    "<p align='justify'>\n",
    "O método keyboard_controll permite controlar o sistema diretamente pelo teclado. As setas direcionais movimentam a plataforma: a seta para cima move em Y para frente, a seta para baixo move em Y para trás, a seta para a esquerda move em X para a esquerda e a seta para a direita move em X para a direita. As teclas \"Page Up\" e \"Page Down\" movimentam a plataforma para cima e para baixo no eixo Z. Com as teclas + e - você pode aumentar ou diminuir o tamanho do passo, que determina a distância percorrida em cada movimento. Para encerrar o controle pelo teclado, basta pressionar a tecla \"esc\" ou interromper a célula. Durante o uso, a posição atual da plataforma e o passo configurado são exibidos em tempo real no console.\n",
    "</p>\n",
    "</h5>\n"
   ]
  },
  {
   "cell_type": "code",
   "execution_count": null,
   "id": "0b92f5ae",
   "metadata": {},
   "outputs": [],
   "source": [
    "jubilee.move_xyz_absolute(x=30,y=300,z=30,velocity=1000)"
   ]
  },
  {
   "cell_type": "code",
   "execution_count": null,
   "id": "a0c212bc",
   "metadata": {},
   "outputs": [],
   "source": [
    "jubilee.move_xyz_relative(x=30,y=300,z=30,velocity=1000)"
   ]
  },
  {
   "cell_type": "code",
   "execution_count": 9,
   "id": "cccce266",
   "metadata": {},
   "outputs": [
    {
     "name": "stdout",
     "output_type": "stream",
     "text": [
      "X:  221.00 | Y:  250.00 | Z:   70.00 || Passo: 40  mm\n",
      " Interrompido\n"
     ]
    }
   ],
   "source": [
    "jubilee.keyboard_controll()"
   ]
  },
  {
   "cell_type": "markdown",
   "id": "78cf8424",
   "metadata": {},
   "source": [
    "<h5> <P align='justify'> As células a seguir definente o objeto da câmera a fazem sua instalação</p></h5>"
   ]
  },
  {
   "cell_type": "code",
   "execution_count": 10,
   "id": "1c204bf7",
   "metadata": {},
   "outputs": [],
   "source": [
    "camera = camera_tool(jubilee)"
   ]
  },
  {
   "cell_type": "code",
   "execution_count": null,
   "id": "6ab51779",
   "metadata": {},
   "outputs": [],
   "source": [
    "camera.install()"
   ]
  }
 ],
 "metadata": {
  "kernelspec": {
   "display_name": "raspilum",
   "language": "python",
   "name": "python3"
  },
  "language_info": {
   "codemirror_mode": {
    "name": "ipython",
    "version": 3
   },
   "file_extension": ".py",
   "mimetype": "text/x-python",
   "name": "python",
   "nbconvert_exporter": "python",
   "pygments_lexer": "ipython3",
   "version": "3.10.18"
  }
 },
 "nbformat": 4,
 "nbformat_minor": 5
}
