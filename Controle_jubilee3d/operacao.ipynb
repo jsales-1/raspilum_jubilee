{
 "cells": [
  {
   "cell_type": "code",
   "execution_count": null,
   "id": "1fa11a92",
   "metadata": {},
   "outputs": [],
   "source": [
    "from jubilee_controller import JubileeMotionController\n",
    "import matplotlib.pyplot as plt\n",
    "import time\n",
    "import numpy as np \n",
    "from pynput import keyboard\n",
    "import cv2\n",
    "from datetime import datetime\n",
    "from camera_controller import camera_tool\n",
    "from email_sender import send_email"
   ]
  },
  {
   "cell_type": "code",
   "execution_count": 2,
   "id": "7e7e003a",
   "metadata": {},
   "outputs": [
    {
     "data": {
      "text/plain": [
       "'ok\\n'"
      ]
     },
     "execution_count": 2,
     "metadata": {},
     "output_type": "execute_result"
    }
   ],
   "source": [
    "jubilee = JubileeMotionController()\n",
    "jubilee.gcode('M98 P\"/sys/config.g\"')\n"
   ]
  },
  {
   "cell_type": "code",
   "execution_count": 3,
   "id": "5c629c42",
   "metadata": {},
   "outputs": [],
   "source": [
    "jubilee.home_all(mesh_mode_z=False)"
   ]
  },
  {
   "cell_type": "code",
   "execution_count": 4,
   "id": "892a65d1",
   "metadata": {},
   "outputs": [],
   "source": [
    "jubilee.move_xyz_relative(z=50)"
   ]
  },
  {
   "cell_type": "code",
   "execution_count": 5,
   "id": "deecfde5",
   "metadata": {},
   "outputs": [
    {
     "data": {
      "text/plain": [
       "[True, True, True, True]"
      ]
     },
     "execution_count": 5,
     "metadata": {},
     "output_type": "execute_result"
    }
   ],
   "source": [
    "jubilee.axes_homed"
   ]
  },
  {
   "cell_type": "code",
   "execution_count": 13,
   "id": "527157a0",
   "metadata": {},
   "outputs": [
    {
     "data": {
      "text/plain": [
       "''"
      ]
     },
     "execution_count": 13,
     "metadata": {},
     "output_type": "execute_result"
    }
   ],
   "source": [
    "jubilee.gcode(\"M18\")"
   ]
  },
  {
   "cell_type": "code",
   "execution_count": 5,
   "id": "8751666b",
   "metadata": {},
   "outputs": [],
   "source": [
    "camera = camera_tool(jubilee)"
   ]
  },
  {
   "cell_type": "code",
   "execution_count": 22,
   "id": "f26c0af5",
   "metadata": {},
   "outputs": [],
   "source": [
    "camera.install()"
   ]
  },
  {
   "cell_type": "code",
   "execution_count": 30,
   "id": "02bd0075",
   "metadata": {},
   "outputs": [],
   "source": [
    "from PIL import Image\n",
    "import cv2\n",
    "import numpy as np\n",
    "import matplotlib.pyplot as plt\n",
    "import matplotlib.gridspec as gridspec\n",
    "from sklearn.linear_model import LinearRegression\n",
    "\n",
    "\n",
    "def detect_circle(path: str, max_min_radius: tuple,two_filters: tuple, plot_image=False, save_name=None):\n",
    "\n",
    "    try:\n",
    "        original_pil = Image.open(path)\n",
    "        gray_pil = original_pil.convert(\"L\")\n",
    "        gray = np.array(gray_pil)\n",
    "\n",
    "        gray_blur = cv2.GaussianBlur(gray, (9, 9), 2)\n",
    "\n",
    "        circles = cv2.HoughCircles(\n",
    "            gray_blur,\n",
    "            cv2.HOUGH_GRADIENT,\n",
    "            dp=1.2,\n",
    "            minDist=100,\n",
    "            param1=100,\n",
    "            param2=30,\n",
    "            minRadius=max_min_radius[0],\n",
    "            maxRadius=max_min_radius[1]\n",
    "        )\n",
    "\n",
    "        frame = np.array(original_pil)\n",
    "\n",
    "\n",
    "        if circles is not None:\n",
    "            circles = np.round(circles[0, :]).astype(\"int\")\n",
    "            circles = sorted(circles, key=lambda x: x[2], reverse=True)\n",
    "\n",
    "            x, y, r = circles[0]\n",
    "            cv2.circle(frame, (x, y), r, (0, 255, 0), 4)\n",
    "            n = 18\n",
    "            r_reduced = max(1, r - n)\n",
    "            cv2.circle(frame, (x, y), r_reduced, (255, 0, 255), 2)\n",
    "\n",
    "            mask = np.zeros_like(gray)\n",
    "            cv2.circle(mask, (x, y), r_reduced, (255, 255, 255), -1)\n",
    "            masked = cv2.bitwise_and(gray, mask)\n",
    "\n",
    "        ys, xs = np.where(masked > 0)\n",
    "        intensities = masked[ys, xs]\n",
    "        X = np.column_stack((xs, ys))\n",
    "        y = intensities\n",
    "        model = LinearRegression().fit(X, y)\n",
    "        a, b = model.coef_\n",
    "        c = model.intercept_\n",
    "        gradient_image = np.zeros_like(masked, dtype=np.float32)\n",
    "        for x, y in zip(xs, ys):\n",
    "            gradient_image[y, x] = a * x + b * y + c\n",
    "\n",
    "        no_grad = masked - gradient_image\n",
    "        no_grad_uint8 = np.clip(no_grad, 0, 255).astype(np.uint8)\n",
    "        no_grad_norm = cv2.bitwise_and(no_grad_uint8, mask)\n",
    "        no_grad_norm = np.clip(no_grad_norm, 0, 255)\n",
    "\n",
    "\n",
    "        filter1 = (no_grad_norm > two_filters[0])*255\n",
    "        coved_area1 = np.count_nonzero(filter1) / np.count_nonzero(masked)\n",
    "\n",
    "        filter2 = (masked > two_filters[1])*255\n",
    "        coved_area2 = np.count_nonzero(filter2) / np.count_nonzero(masked)\n",
    "\n",
    "        fig = plt.figure(figsize=(15, 6))\n",
    "        gs = plt.GridSpec(2, 3, height_ratios=[1, 1])\n",
    "        \n",
    "        ax1 = fig.add_subplot(gs[0, 0])\n",
    "        im1 = ax1.imshow(frame)\n",
    "        fig.colorbar(im1, ax=ax1)\n",
    "\n",
    "        ax2 = fig.add_subplot(gs[0, 1])\n",
    "        im2 = ax2.imshow(masked, cmap='gray',vmin=0, vmax=255)\n",
    "        fig.colorbar(im2, ax=ax2)\n",
    "\n",
    "        ax3 = fig.add_subplot(gs[0, 2])\n",
    "        im3 = ax3.imshow(gradient_image, cmap='gray', vmin=0, vmax=255)\n",
    "        fig.colorbar(im3, ax=ax3)\n",
    "\n",
    "        ax4 = fig.add_subplot(gs[1, 0])\n",
    "        im4 = ax4.imshow(filter1, cmap='gray',vmin=0, vmax=255)\n",
    "        fig.colorbar(im4, ax=ax4)\n",
    "\n",
    "        ax5 = fig.add_subplot(gs[1, 1])\n",
    "        im5 = ax5.imshow(no_grad_norm, cmap='gray',vmin=0, vmax=255)\n",
    "        fig.colorbar(im5, ax=ax5)\n",
    "\n",
    "        ax6 = fig.add_subplot(gs[1, 2])\n",
    "        im6 = ax6.imshow(filter2, cmap='gray',vmin=0, vmax=255)\n",
    "        fig.colorbar(im6, ax=ax6)\n",
    "\n",
    "        if save_name is not None:\n",
    "            fig.savefig(save_name)\n",
    "\n",
    "        if plot_image:\n",
    "            plt.show()\n",
    "        else:\n",
    "            plt.close(fig)\n",
    "\n",
    "\n",
    "        return coved_area1,coved_area2,no_grad_norm,masked\n",
    "    \n",
    "\n",
    "    except:\n",
    "        return None,None,None,None\n"
   ]
  },
  {
   "cell_type": "code",
   "execution_count": 31,
   "id": "e7501363",
   "metadata": {},
   "outputs": [],
   "source": [
    "posicao1 = [165.0, 371.0, 300.0]\n",
    "posicao2 = [165.0, 261.0, 300.0]\n",
    "posicao3 = [165.0, 159.0, 300.0]\n",
    "posicoes = (posicao1,posicao2,posicao3)"
   ]
  },
  {
   "cell_type": "code",
   "execution_count": null,
   "id": "aa7cadb0",
   "metadata": {},
   "outputs": [
    {
     "name": "stdout",
     "output_type": "stream",
     "text": [
      "0\r"
     ]
    },
    {
     "ename": "KeyboardInterrupt",
     "evalue": "",
     "output_type": "error",
     "traceback": [
      "\u001b[0;31m---------------------------------------------------------------------------\u001b[0m",
      "\u001b[0;31mKeyboardInterrupt\u001b[0m                         Traceback (most recent call last)",
      "Cell \u001b[0;32mIn[29], line 31\u001b[0m\n\u001b[1;32m     28\u001b[0m \u001b[38;5;28;01mexcept\u001b[39;00m:\n\u001b[1;32m     29\u001b[0m     \u001b[38;5;28;01mcontinue\u001b[39;00m\n\u001b[0;32m---> 31\u001b[0m \u001b[43mtime\u001b[49m\u001b[38;5;241;43m.\u001b[39;49m\u001b[43msleep\u001b[49m\u001b[43m(\u001b[49m\u001b[38;5;241;43m1800\u001b[39;49m\u001b[43m)\u001b[49m\n",
      "\u001b[0;31mKeyboardInterrupt\u001b[0m: "
     ]
    }
   ],
   "source": [
    "n = 1000\n",
    "\n",
    "\n",
    "for i in range(n):\n",
    "    placa = ('placa 1','placa 2','placa 3')\n",
    "    last_saves = []\n",
    "    for posicao,p in zip(posicoes,placa):\n",
    "        now = datetime.now()\n",
    "\n",
    "        current_time_hms = now.strftime(\"%H:%M:%S\")\n",
    "        x,y,z = posicao\n",
    "        jubilee.move_xyz_absolute(x=x,y=y,z=z,velocity=8000)\n",
    "        time.sleep(2)\n",
    "        save = f'fotos_teste/{i} {p} {current_time_hms}.jpg'\n",
    "        camera.photo(save,video_index=1)\n",
    "        print(i,end='\\r')  \n",
    "        \n",
    "        last_saves.append(save)\n",
    "\n",
    "        coved_area1,coved_area2,no_grad_norm,masked = detect_circle(save, (100,210),(77,180),plot_image=False,save_name=f'atual_analise {p}.jpg')\n",
    "        last_saves.append(f'atual_analise {p}.jpg')\n",
    "\n",
    "\n",
    "    try:\n",
    "        send_email(\"Experimento Análise de Meio de Cultura\",f\"Iteração {i}: Área coberta = {coved_area1,coved_area2} \",last_saves)\n",
    "        \n",
    "\n",
    "    except:\n",
    "        continue\n",
    "    \n",
    "    time.sleep(1800)"
   ]
  },
  {
   "cell_type": "code",
   "execution_count": null,
   "id": "9034c53a",
   "metadata": {},
   "outputs": [],
   "source": []
  }
 ],
 "metadata": {
  "kernelspec": {
   "display_name": "raspilum",
   "language": "python",
   "name": "python3"
  },
  "language_info": {
   "codemirror_mode": {
    "name": "ipython",
    "version": 3
   },
   "file_extension": ".py",
   "mimetype": "text/x-python",
   "name": "python",
   "nbconvert_exporter": "python",
   "pygments_lexer": "ipython3",
   "version": "3.10.18"
  }
 },
 "nbformat": 4,
 "nbformat_minor": 5
}
