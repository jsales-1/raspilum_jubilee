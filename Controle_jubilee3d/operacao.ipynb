{
 "cells": [
  {
   "cell_type": "code",
   "execution_count": 16,
   "id": "1fa11a92",
   "metadata": {},
   "outputs": [],
   "source": [
    "from jubilee_controller import JubileeMotionController\n",
    "import matplotlib.pyplot as plt\n",
    "import time\n",
    "import numpy as np \n",
    "from pynput import keyboard\n",
    "import cv2\n",
    "from datetime import datetime\n",
    "from camera_controller import camera_tool\n",
    "from email_sender import send_email"
   ]
  },
  {
   "cell_type": "code",
   "execution_count": 17,
   "id": "7e7e003a",
   "metadata": {},
   "outputs": [
    {
     "data": {
      "text/plain": [
       "'ok\\n'"
      ]
     },
     "execution_count": 17,
     "metadata": {},
     "output_type": "execute_result"
    }
   ],
   "source": [
    "jubilee = JubileeMotionController()\n",
    "jubilee.gcode('M98 P\"/sys/config.g\"')\n"
   ]
  },
  {
   "cell_type": "code",
   "execution_count": 19,
   "id": "5c629c42",
   "metadata": {},
   "outputs": [],
   "source": [
    "jubilee.home_all()"
   ]
  },
  {
   "cell_type": "code",
   "execution_count": 20,
   "id": "892a65d1",
   "metadata": {},
   "outputs": [],
   "source": [
    "jubilee.move_xyz_relative(z=100)"
   ]
  },
  {
   "cell_type": "code",
   "execution_count": 5,
   "id": "deecfde5",
   "metadata": {},
   "outputs": [
    {
     "data": {
      "text/plain": [
       "[True, True, True, True]"
      ]
     },
     "execution_count": 5,
     "metadata": {},
     "output_type": "execute_result"
    }
   ],
   "source": [
    "jubilee.axes_homed"
   ]
  },
  {
   "cell_type": "code",
   "execution_count": 36,
   "id": "527157a0",
   "metadata": {},
   "outputs": [
    {
     "data": {
      "text/plain": [
       "''"
      ]
     },
     "execution_count": 36,
     "metadata": {},
     "output_type": "execute_result"
    }
   ],
   "source": [
    "jubilee.gcode(\"M18\")"
   ]
  },
  {
   "cell_type": "code",
   "execution_count": 21,
   "id": "8751666b",
   "metadata": {},
   "outputs": [],
   "source": [
    "camera = camera_tool(jubilee)"
   ]
  },
  {
   "cell_type": "code",
   "execution_count": 34,
   "id": "f26c0af5",
   "metadata": {},
   "outputs": [],
   "source": [
    "camera.uninstall()"
   ]
  },
  {
   "cell_type": "code",
   "execution_count": 23,
   "id": "e7501363",
   "metadata": {},
   "outputs": [],
   "source": [
    "posicao1 = [165.0, 211.0, 300.0]\n",
    "posicao2 = [165.0, 316.0, 300.0]\n",
    "posicoes = (posicao1,posicao2)"
   ]
  },
  {
   "cell_type": "code",
   "execution_count": 31,
   "id": "aa7cadb0",
   "metadata": {},
   "outputs": [
    {
     "name": "stdout",
     "output_type": "stream",
     "text": [
      "Email with image sent successfully!\n",
      "Email with image sent successfully!\n",
      "Email with image sent successfully!\n",
      "Email with image sent successfully!\n",
      "Email with image sent successfully!\n",
      "Email with image sent successfully!\n",
      "Email with image sent successfully!\n",
      "Email with image sent successfully!\n",
      "Email with image sent successfully!\n",
      "Email with image sent successfully!\n",
      "Email with image sent successfully!\n",
      "Email with image sent successfully!\n",
      "Email with image sent successfully!\n",
      "Email with image sent successfully!\n",
      "Email with image sent successfully!\n",
      "Email with image sent successfully!\n",
      "Email with image sent successfully!\n",
      "Email with image sent successfully!\n",
      "Email with image sent successfully!\n",
      "Email with image sent successfully!\n",
      "Email with image sent successfully!\n",
      "Email with image sent successfully!\n",
      "Email with image sent successfully!\n",
      "Email with image sent successfully!\n",
      "Email with image sent successfully!\n",
      "Email with image sent successfully!\n",
      "Email with image sent successfully!\n",
      "269\r"
     ]
    },
    {
     "ename": "KeyboardInterrupt",
     "evalue": "",
     "output_type": "error",
     "traceback": [
      "\u001b[0;31m---------------------------------------------------------------------------\u001b[0m",
      "\u001b[0;31mKeyboardInterrupt\u001b[0m                         Traceback (most recent call last)",
      "Cell \u001b[0;32mIn[31], line 21\u001b[0m\n\u001b[1;32m     17\u001b[0m \u001b[38;5;28;01mif\u001b[39;00m i\u001b[38;5;241m%\u001b[39m\u001b[38;5;241m10\u001b[39m \u001b[38;5;241m==\u001b[39m \u001b[38;5;241m0\u001b[39m:\n\u001b[1;32m     18\u001b[0m     send_email(\u001b[38;5;124m\"\u001b[39m\u001b[38;5;124mTeste_30_07\u001b[39m\u001b[38;5;124m\"\u001b[39m,\u001b[38;5;124mf\u001b[39m\u001b[38;5;124m\"\u001b[39m\u001b[38;5;124mIteração:\u001b[39m\u001b[38;5;132;01m{\u001b[39;00mi\u001b[38;5;132;01m}\u001b[39;00m\u001b[38;5;124m\"\u001b[39m)\n\u001b[0;32m---> 21\u001b[0m \u001b[43mtime\u001b[49m\u001b[38;5;241;43m.\u001b[39;49m\u001b[43msleep\u001b[49m\u001b[43m(\u001b[49m\u001b[38;5;241;43m300\u001b[39;49m\u001b[43m)\u001b[49m\n",
      "\u001b[0;31mKeyboardInterrupt\u001b[0m: "
     ]
    }
   ],
   "source": [
    "n = 1000\n",
    "\n",
    "\n",
    "for i in range(n):\n",
    "    placa = ('placa 1','placa 2')\n",
    "    for posicao,p in zip(posicoes,placa):\n",
    "        now = datetime.now()\n",
    "\n",
    "        current_time_hms = now.strftime(\"%H:%M:%S\")\n",
    "        x,y,z = posicao\n",
    "        jubilee.move_xyz_absolute(x=x,y=y,z=z,velocity=8000)\n",
    "        time.sleep(5)\n",
    "\n",
    "        camera.photo(f'fotos2/{i} {p} {current_time_hms}.jpg',video_index=0)\n",
    "        print(i,end='\\r')\n",
    "\n",
    "    if i%10 == 0:\n",
    "        send_email(\"Teste_30_07\",f\"Iteração:{i}\")\n",
    "\n",
    "    \n",
    "    time.sleep(300)"
   ]
  },
  {
   "cell_type": "code",
   "execution_count": null,
   "id": "6e7dc30a",
   "metadata": {},
   "outputs": [],
   "source": []
  }
 ],
 "metadata": {
  "kernelspec": {
   "display_name": "raspilum",
   "language": "python",
   "name": "python3"
  },
  "language_info": {
   "codemirror_mode": {
    "name": "ipython",
    "version": 3
   },
   "file_extension": ".py",
   "mimetype": "text/x-python",
   "name": "python",
   "nbconvert_exporter": "python",
   "pygments_lexer": "ipython3",
   "version": "3.10.18"
  }
 },
 "nbformat": 4,
 "nbformat_minor": 5
}
