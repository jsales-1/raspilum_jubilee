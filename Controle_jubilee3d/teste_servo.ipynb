{
 "cells": [
  {
   "cell_type": "code",
   "execution_count": 5,
   "id": "06b67cd4",
   "metadata": {},
   "outputs": [],
   "source": [
    "import lgpio\n",
    "import time\n"
   ]
  },
  {
   "cell_type": "code",
   "execution_count": 6,
   "id": "5d1ec7a6",
   "metadata": {},
   "outputs": [
    {
     "data": {
      "text/plain": [
       "9"
      ]
     },
     "execution_count": 6,
     "metadata": {},
     "output_type": "execute_result"
    }
   ],
   "source": [
    "# Cria handle para GPIO\n",
    "h = lgpio.gpiochip_open(0)\n",
    "\n",
    "# Define o pino que vai controlar o servo (ex: GPIO18)\n",
    "servo_pin = 13\n",
    "lgpio.gpio_claim_output(h, servo_pin)\n",
    "\n",
    "# Frequência do PWM = 50Hz\n",
    "lgpio.tx_pwm(h, servo_pin, 50, 0)"
   ]
  },
  {
   "cell_type": "code",
   "execution_count": 7,
   "id": "205c98c3",
   "metadata": {},
   "outputs": [],
   "source": [
    "def set_angle(angle):\n",
    "    # Converte ângulo para duty cycle (0°=2.5%, 180°=12.5%)\n",
    "    duty = 2.5 + (angle / 180.0) * 10.0\n",
    "    lgpio.tx_pwm(h, servo_pin, 50, duty)"
   ]
  },
  {
   "cell_type": "code",
   "execution_count": null,
   "id": "75517299",
   "metadata": {},
   "outputs": [
    {
     "name": "stdout",
     "output_type": "stream",
     "text": [
      "Servo -> 0°\n",
      "Servo -> 30°\n",
      "Servo -> 60°\n",
      "Servo -> 90°\n",
      "Servo -> 120°\n",
      "Servo -> 150°\n",
      "Servo -> 180°\n",
      "Servo -> 0°\n",
      "Servo -> 30°\n",
      "Servo -> 60°\n",
      "Servo -> 90°\n",
      "Servo -> 120°\n",
      "Servo -> 150°\n",
      "Servo -> 180°\n",
      "Servo -> 0°\n",
      "Servo -> 30°\n",
      "Servo -> 60°\n",
      "Servo -> 90°\n",
      "Servo -> 120°\n",
      "Servo -> 150°\n",
      "Servo -> 180°\n",
      "Servo -> 0°\n",
      "Servo -> 30°\n",
      "Servo -> 60°\n",
      "Servo -> 90°\n",
      "Servo -> 120°\n",
      "Servo -> 150°\n",
      "Servo -> 180°\n",
      "Encerrando...\n"
     ]
    }
   ],
   "source": [
    "\n",
    "try:\n",
    "    while True:\n",
    "        for ang in range(0, 181, 30):\n",
    "            set_angle(ang)\n",
    "            print(f\"Servo -> {ang}°\")\n",
    "            time.sleep(1)\n",
    "except KeyboardInterrupt:\n",
    "    print(\"Encerrando...\")\n",
    "finally:\n",
    "    lgpio.tx_pwm(h, servo_pin, 50, 0)\n",
    "    lgpio.gpiochip_close(h)\n"
   ]
  },
  {
   "cell_type": "code",
   "execution_count": 8,
   "id": "a064be2c",
   "metadata": {},
   "outputs": [],
   "source": [
    "set_angle(0)"
   ]
  }
 ],
 "metadata": {
  "kernelspec": {
   "display_name": "raspilum",
   "language": "python",
   "name": "python3"
  },
  "language_info": {
   "codemirror_mode": {
    "name": "ipython",
    "version": 3
   },
   "file_extension": ".py",
   "mimetype": "text/x-python",
   "name": "python",
   "nbconvert_exporter": "python",
   "pygments_lexer": "ipython3",
   "version": "3.10.18"
  }
 },
 "nbformat": 4,
 "nbformat_minor": 5
}
