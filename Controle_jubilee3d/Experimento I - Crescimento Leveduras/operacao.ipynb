{
 "cells": [
  {
   "cell_type": "code",
   "execution_count": 1,
   "id": "4c7e8815",
   "metadata": {},
   "outputs": [],
   "source": [
    "import sys\n",
    "import os\n",
    "sys.path.append(os.path.abspath(\"..\"))"
   ]
  },
  {
   "cell_type": "code",
   "execution_count": 2,
   "id": "1fa11a92",
   "metadata": {},
   "outputs": [],
   "source": [
    "from jubilee_controller import JubileeMotionController\n",
    "import matplotlib.pyplot as plt\n",
    "import time\n",
    "import numpy as np \n",
    "from pynput import keyboard\n",
    "import cv2\n",
    "from datetime import datetime\n",
    "from camera_controller import camera_tool\n",
    "from email_sender import send_email\n",
    "from image_processing import detect_circle"
   ]
  },
  {
   "cell_type": "code",
   "execution_count": 3,
   "id": "7e7e003a",
   "metadata": {},
   "outputs": [
    {
     "data": {
      "text/plain": [
       "'ok\\n'"
      ]
     },
     "execution_count": 3,
     "metadata": {},
     "output_type": "execute_result"
    }
   ],
   "source": [
    "jubilee = JubileeMotionController()\n",
    "jubilee.gcode('M98 P\"/sys/config.g\"')\n"
   ]
  },
  {
   "cell_type": "code",
   "execution_count": 4,
   "id": "5c629c42",
   "metadata": {},
   "outputs": [],
   "source": [
    "jubilee.home_all(mesh_mode_z=False)"
   ]
  },
  {
   "cell_type": "code",
   "execution_count": 8,
   "id": "892a65d1",
   "metadata": {},
   "outputs": [],
   "source": [
    "jubilee.move_xyz_absolute(z=300)"
   ]
  },
  {
   "cell_type": "code",
   "execution_count": 6,
   "id": "8751666b",
   "metadata": {},
   "outputs": [],
   "source": [
    "camera = camera_tool(jubilee)"
   ]
  },
  {
   "cell_type": "code",
   "execution_count": 7,
   "id": "f26c0af5",
   "metadata": {},
   "outputs": [],
   "source": [
    "camera.install()"
   ]
  },
  {
   "cell_type": "code",
   "execution_count": null,
   "id": "e7501363",
   "metadata": {},
   "outputs": [],
   "source": [
    "posicao1 = [170, 200.0, 300.0]\n",
    "posicao2 = [170.0, 327.0, 300.0]\n",
    "posicoes = [posicao1,posicao2]"
   ]
  },
  {
   "cell_type": "code",
   "execution_count": null,
   "id": "aa7cadb0",
   "metadata": {},
   "outputs": [],
   "source": [
    "n = 1000\n",
    "\n",
    "\n",
    "for i in range(n):\n",
    "    placa = ['placa 1','placa 2']\n",
    "    last_saves = []\n",
    "    covered_areas = []\n",
    "    for posicao,p in zip(posicoes,placa):\n",
    "        now = datetime.now()\n",
    "\n",
    "        current_time_hms = now.strftime(\"%H:%M:%S\")\n",
    "        x,y,z = posicao\n",
    "        jubilee.move_xyz_absolute(x=x,y=y,z=z,velocity=8000)\n",
    "        time.sleep(2)\n",
    "        save = f'fotos_experimento/{i} {p} {current_time_hms}.jpg'\n",
    "        camera.photo(save,video_index=0)\n",
    "        print(i,end='\\r')  \n",
    "        \n",
    "        last_saves.append(save)\n",
    "\n",
    "        coved_area1,coved_area2,no_grad_norm,masked = detect_circle(save, (100,210),(77,180),plot_image=False,save_name=f'atual_analise {p}.jpg')\n",
    "        covered_areas.append((coved_area1,coved_area2))\n",
    "        last_saves.append(f'atual_analise {p}.jpg')\n",
    "\n",
    "    \n",
    "    try:\n",
    "        send_email(\"Experimento Análise de Meio de Cultura\",f\"Iteração {i}: Área coberta = {covered_areas} \",last_saves)\n",
    "        pass\n",
    "\n",
    "    except:\n",
    "        continue\n",
    "    \n",
    "    time.sleep(1800)"
   ]
  }
 ],
 "metadata": {
  "kernelspec": {
   "display_name": "raspilum",
   "language": "python",
   "name": "python3"
  },
  "language_info": {
   "codemirror_mode": {
    "name": "ipython",
    "version": 3
   },
   "file_extension": ".py",
   "mimetype": "text/x-python",
   "name": "python",
   "nbconvert_exporter": "python",
   "pygments_lexer": "ipython3",
   "version": "3.10.18"
  }
 },
 "nbformat": 4,
 "nbformat_minor": 5
}
