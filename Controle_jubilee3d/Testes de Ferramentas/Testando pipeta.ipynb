{
 "cells": [
  {
   "cell_type": "code",
   "execution_count": 1,
   "id": "a46c9cc6",
   "metadata": {},
   "outputs": [],
   "source": [
    "import sys\n",
    "import os\n",
    "sys.path.append(os.path.abspath(\"..\"))"
   ]
  },
  {
   "cell_type": "code",
   "execution_count": 2,
   "id": "6296152c",
   "metadata": {},
   "outputs": [],
   "source": [
    "from jubilee_controller import JubileeMotionController\n",
    "import matplotlib.pyplot as plt\n",
    "import time\n",
    "import numpy as np \n",
    "from pynput import keyboard\n",
    "import cv2\n",
    "from datetime import datetime\n",
    "from camera_controller import camera_tool\n",
    "from email_sender import send_email\n",
    "from image_processing import detect_circle\n",
    "from micropipette_controller import Micropipette"
   ]
  },
  {
   "cell_type": "code",
   "execution_count": 3,
   "id": "4801867f",
   "metadata": {},
   "outputs": [],
   "source": [
    "jubilee = JubileeMotionController()"
   ]
  },
  {
   "cell_type": "code",
   "execution_count": 7,
   "id": "b26ad302",
   "metadata": {},
   "outputs": [
    {
     "name": "stdout",
     "output_type": "stream",
     "text": [
      "Reconnecting...\n"
     ]
    }
   ],
   "source": [
    "jubilee.reset()"
   ]
  },
  {
   "cell_type": "code",
   "execution_count": 4,
   "id": "35d87ef1",
   "metadata": {},
   "outputs": [],
   "source": [
    "jubilee.home_all(mesh_mode_z=False)"
   ]
  },
  {
   "cell_type": "code",
   "execution_count": 5,
   "id": "87f8b60f",
   "metadata": {},
   "outputs": [],
   "source": [
    "jubilee.move_xyz_absolute(z=60)"
   ]
  },
  {
   "cell_type": "code",
   "execution_count": 7,
   "id": "cccce266",
   "metadata": {},
   "outputs": [
    {
     "name": "stdout",
     "output_type": "stream",
     "text": [
      "X:  160.00 | Y:  200.00 | Z:   70.00 || Passo: 10  mm\n",
      " Interrompido\n"
     ]
    }
   ],
   "source": [
    "jubilee.controlar_jubilee()"
   ]
  },
  {
   "cell_type": "code",
   "execution_count": 7,
   "id": "ad29a651",
   "metadata": {},
   "outputs": [],
   "source": [
    "pipeta = Micropipette(jubilee)"
   ]
  },
  {
   "cell_type": "code",
   "execution_count": 11,
   "id": "1a504a0d",
   "metadata": {},
   "outputs": [],
   "source": [
    "camera = camera_tool(jubilee)"
   ]
  },
  {
   "cell_type": "code",
   "execution_count": 13,
   "id": "22ef195e",
   "metadata": {},
   "outputs": [],
   "source": [
    "camera.uninstall()"
   ]
  },
  {
   "cell_type": "code",
   "execution_count": 10,
   "id": "6d46db68",
   "metadata": {},
   "outputs": [],
   "source": [
    "pipeta.uninstall()"
   ]
  },
  {
   "cell_type": "code",
   "execution_count": 9,
   "id": "cfd9f694",
   "metadata": {},
   "outputs": [],
   "source": [
    "pipeta.press_step(50)"
   ]
  },
  {
   "cell_type": "code",
   "execution_count": 36,
   "id": "26d46c70",
   "metadata": {},
   "outputs": [],
   "source": [
    "jubilee.move_xyz_absolute(z=230)\n",
    "jubilee.move_xyz_absolute(x=138,y=320)\n",
    "pipeta.press_step(300)\n",
    "jubilee.move_xyz_absolute(z=165)\n",
    "pipeta.aspirate()\n",
    "time.sleep(10)\n",
    "jubilee.move_xyz_absolute(z=230)\n",
    "\n"
   ]
  },
  {
   "cell_type": "code",
   "execution_count": 37,
   "id": "eb2b5b86",
   "metadata": {},
   "outputs": [],
   "source": [
    "jubilee.move_xyz_absolute(x=138,y=220)\n",
    "jubilee.move_xyz_absolute(z=180)\n",
    "pipeta.dispense()\n",
    "\n",
    "\n"
   ]
  },
  {
   "cell_type": "code",
   "execution_count": 45,
   "id": "921c9576",
   "metadata": {},
   "outputs": [],
   "source": [
    "pipeta.install()"
   ]
  },
  {
   "cell_type": "code",
   "execution_count": 60,
   "id": "7abdf84a",
   "metadata": {},
   "outputs": [],
   "source": [
    "def ul_to_passo(ul):\n",
    "    return  round(((ul + 0)/3.39094),2)\n"
   ]
  },
  {
   "cell_type": "code",
   "execution_count": 61,
   "id": "4fd0beff",
   "metadata": {},
   "outputs": [],
   "source": [
    "for i in range(10):\n",
    "    pipeta.press_step(ul_to_passo(1000))\n",
    "    jubilee.move_xyz_absolute(x=145,y=219)\n",
    "\n",
    "    jubilee.move_xyz_absolute(z=165)\n",
    "    pipeta.aspirate()\n",
    "    time.sleep(10)\n",
    "    jubilee.move_xyz_absolute(z=300)\n",
    "    jubilee.move_xyz_absolute(x=145,y=329)\n",
    "    jubilee.move_xyz_absolute(z=255)\n",
    "    pipeta.dispense()\n",
    "    jubilee.move_xyz_absolute(z=305)\n",
    "\n"
   ]
  },
  {
   "cell_type": "code",
   "execution_count": 62,
   "id": "efe3e327",
   "metadata": {},
   "outputs": [],
   "source": [
    "pipeta.eject_tip()"
   ]
  },
  {
   "cell_type": "code",
   "execution_count": 63,
   "id": "f319654c",
   "metadata": {},
   "outputs": [],
   "source": [
    "pipeta.uninstall()"
   ]
  }
 ],
 "metadata": {
  "kernelspec": {
   "display_name": "raspilum",
   "language": "python",
   "name": "python3"
  },
  "language_info": {
   "codemirror_mode": {
    "name": "ipython",
    "version": 3
   },
   "file_extension": ".py",
   "mimetype": "text/x-python",
   "name": "python",
   "nbconvert_exporter": "python",
   "pygments_lexer": "ipython3",
   "version": "3.10.18"
  }
 },
 "nbformat": 4,
 "nbformat_minor": 5
}
