{
 "cells": [
  {
   "cell_type": "markdown",
   "id": "403abfa7",
   "metadata": {},
   "source": [
    "#### Devido a organização das pastas, uso as bibliotecas \"os\" e \"sys\" para definidir o local como sendo na pasta anterior, a \"Controle_jubilee\""
   ]
  },
  {
   "cell_type": "code",
   "execution_count": 39,
   "id": "a46c9cc6",
   "metadata": {},
   "outputs": [],
   "source": [
    "import sys\n",
    "import os\n",
    "sys.path.append(os.path.abspath(\"..\"))"
   ]
  },
  {
   "cell_type": "markdown",
   "id": "7a092a4b",
   "metadata": {},
   "source": [
    "#### Em seguida, faço a importação os objetos e funções dos scripts Python. Recomendo que acesse esses arquivo .py para conferir melhor as "
   ]
  },
  {
   "cell_type": "code",
   "execution_count": 40,
   "id": "6296152c",
   "metadata": {},
   "outputs": [],
   "source": [
    "from jubilee_controller import JubileeMotionController\n",
    "import matplotlib.pyplot as plt\n",
    "import time\n",
    "import numpy as np \n",
    "from pynput import keyboard\n",
    "import cv2\n",
    "from datetime import datetime\n",
    "from camera_controller import camera_tool\n",
    "from email_sender import send_email\n",
    "from image_processing import detect_circle"
   ]
  },
  {
   "cell_type": "code",
   "execution_count": 41,
   "id": "4801867f",
   "metadata": {},
   "outputs": [],
   "source": [
    "jubilee = JubileeMotionController()"
   ]
  },
  {
   "cell_type": "code",
   "execution_count": 69,
   "id": "b26ad302",
   "metadata": {},
   "outputs": [
    {
     "name": "stdout",
     "output_type": "stream",
     "text": [
      "Reconnecting...\n"
     ]
    }
   ],
   "source": [
    "jubilee.reset()"
   ]
  },
  {
   "cell_type": "code",
   "execution_count": 44,
   "id": "35d87ef1",
   "metadata": {},
   "outputs": [],
   "source": [
    "jubilee.home_all(mesh_mode_z=False)"
   ]
  },
  {
   "cell_type": "code",
   "execution_count": 68,
   "id": "87f8b60f",
   "metadata": {},
   "outputs": [],
   "source": [
    "jubilee.move_xyz_absolute(z=100)"
   ]
  },
  {
   "cell_type": "code",
   "execution_count": 7,
   "id": "cccce266",
   "metadata": {},
   "outputs": [
    {
     "name": "stdout",
     "output_type": "stream",
     "text": [
      "X:  160.00 | Y:  200.00 | Z:   70.00 || Passo: 10  mm\n",
      " Interrompido\n"
     ]
    }
   ],
   "source": [
    "jubilee.controlar_jubilee()"
   ]
  },
  {
   "cell_type": "code",
   "execution_count": null,
   "id": "ad23982b",
   "metadata": {},
   "outputs": [
    {
     "data": {
      "text/plain": [
       "[(0, 200.0), (0, 200.0), (0, 200.0), (0, 200.0)]"
      ]
     },
     "execution_count": 10,
     "metadata": {},
     "output_type": "execute_result"
    }
   ],
   "source": [
    "jubilee.axis_limits"
   ]
  },
  {
   "cell_type": "code",
   "execution_count": 36,
   "id": "1c204bf7",
   "metadata": {},
   "outputs": [],
   "source": [
    "camera = camera_tool(jubilee)"
   ]
  },
  {
   "cell_type": "code",
   "execution_count": null,
   "id": "6ab51779",
   "metadata": {},
   "outputs": [],
   "source": [
    "camera.uninstall()"
   ]
  },
  {
   "cell_type": "code",
   "execution_count": null,
   "id": "857b6345",
   "metadata": {},
   "outputs": [
    {
     "data": {
      "text/plain": [
       "[160.0, 200.0, 150.0]"
      ]
     },
     "execution_count": 21,
     "metadata": {},
     "output_type": "execute_result"
    }
   ],
   "source": [
    "jubilee.position"
   ]
  },
  {
   "cell_type": "code",
   "execution_count": 46,
   "id": "f953156b",
   "metadata": {},
   "outputs": [],
   "source": [
    "import lgpio"
   ]
  },
  {
   "cell_type": "code",
   "execution_count": 47,
   "id": "097fff06",
   "metadata": {},
   "outputs": [],
   "source": [
    "class Gripper:\n",
    "    def __init__(self,machine,servo_pin=13):\n",
    "\n",
    "        self.handle = lgpio.gpiochip_open(0)\n",
    "        self.servo_pin = servo_pin\n",
    "        self.machine = machine\n",
    "        self.move_velocity = 10000\n",
    "\n",
    "        self.machine.gcode(\"M208 X0:330 Y0:400 Z100:300\")\n",
    "        self.machine.move_xyz_absolute(z=100)\n",
    "        \n",
    "\n",
    "    def install(self):\n",
    "        \"\"\"\n",
    "        Instala a ferramenta da câmera na máquina.\n",
    "\n",
    "        Este método move o cabeçote para as coordenadas específicas\n",
    "        necessárias para acoplar a câmera ao sistema Jubilee. As\n",
    "        Coodernadas foram descobertas empíricamente e podem ser \n",
    "        alteradas se necessário.\n",
    "        \"\"\"\n",
    "        self.machine.move_xyz_absolute(y=220, velocity=self.move_velocity)\n",
    "        self.machine.move_xyz_absolute(x=40, velocity=self.move_velocity)\n",
    "        self.machine.gcode(\"G0 U70\")\n",
    "        self.machine.move_xyz_absolute(y=7, velocity=self.move_velocity)\n",
    "        self.machine.gcode(\"G0 U0\")\n",
    "        self.machine.move_xyz_absolute(y=70, velocity=self.move_velocity)\n",
    "        self.machine.move_xyz_absolute(x=70, y=120, velocity=self.move_velocity)\n",
    "\n",
    "    def uninstall(self):\n",
    "        \"\"\"\n",
    "        Remove a ferramenta da câmera da máquina.\n",
    "\n",
    "        Este método move o cabeçote para as coordenadas específicas\n",
    "        necessárias para desacoplar a câmera do sistema Jubilee.\n",
    "        \"\"\"\n",
    "        self.machine.move_xyz_absolute(y=90, velocity=self.move_velocity)\n",
    "        self.machine.move_xyz_absolute(x=40, velocity=self.move_velocity)\n",
    "        self.machine.move_xyz_absolute(y=7, velocity=self.move_velocity)\n",
    "        self.machine.gcode(\"G0 U70\")\n",
    "        self.machine.move_xyz_absolute(y=70, velocity=self.move_velocity)\n",
    "        self.machine.move_xyz_absolute(x=70, y=120, velocity=self.move_velocity)\n",
    "        self.machine.gcode(\"G0 U0\")\n",
    "\n",
    "\n",
    "\n",
    "    def set_angle(self,angle):\n",
    "        # Converte ângulo para duty cycle (0°=2.5%, 180°=12.5%)\n",
    "        duty = 2.5 + (angle / 180.0) * 10.0\n",
    "        lgpio.tx_pwm(self.handle, self.servo_pin, 50, duty)\n",
    "\n",
    "    def end(self):\n",
    "        lgpio.gpiochip_close(self.handle)\n",
    "    \n",
    "    def begin(self):\n",
    "        self.handle = lgpio.gpiochip_open(0)\n",
    "\n",
    "    \n",
    "    def open(self):\n",
    "        self.begin()\n",
    "        lgpio.gpio_claim_output(self.handle, self.servo_pin)\n",
    "        self.set_angle(30)\n",
    "        time.sleep(0.5)\n",
    "        self.end()\n",
    "\n",
    "    def close(self):\n",
    "        self.begin()\n",
    "        lgpio.gpio_claim_output(self.handle, self.servo_pin)\n",
    "        self.set_angle(0)\n",
    "        time.sleep(0.5)\n",
    "        self.end()"
   ]
  },
  {
   "cell_type": "code",
   "execution_count": 48,
   "id": "f1f94a1d",
   "metadata": {},
   "outputs": [],
   "source": [
    "gri = Gripper(jubilee)"
   ]
  },
  {
   "cell_type": "code",
   "execution_count": 17,
   "id": "9f56fe73",
   "metadata": {},
   "outputs": [],
   "source": [
    "for _ in range(0,3):\n",
    "    gri.install()\n",
    "    time.sleep(1)\n",
    "    gri.uninstall()"
   ]
  },
  {
   "cell_type": "code",
   "execution_count": 51,
   "id": "901932d0",
   "metadata": {},
   "outputs": [],
   "source": [
    "jubilee.move_xyz_absolute(z=220)"
   ]
  },
  {
   "cell_type": "code",
   "execution_count": 52,
   "id": "ea8d1ddd",
   "metadata": {},
   "outputs": [],
   "source": [
    "gri.install()"
   ]
  },
  {
   "cell_type": "code",
   "execution_count": 25,
   "id": "ee7d2762",
   "metadata": {},
   "outputs": [],
   "source": [
    "for _ in range(5):\n",
    "    time.sleep(2)\n",
    "    gri.close()\n",
    "    jubilee.move_xyz_absolute(z=150,velocity=15000)\n",
    "    jubilee.move_xyz_absolute(x=100,y=240,velocity=15000)\n",
    "    jubilee.move_xyz_absolute(z=100,velocity=15000)\n",
    "    time.sleep(5)\n",
    "    gri.open()\n",
    "    jubilee.move_xyz_absolute(z=150,velocity=15000)\n",
    "    jubilee.move_xyz_absolute(x=40,y=300,velocity=15000)\n",
    "    jubilee.move_xyz_absolute(x=100,y=240,velocity=15000)\n",
    "    jubilee.move_xyz_absolute(z=100,velocity=15000)\n",
    "    time.sleep(5)\n",
    "    gri.close()\n",
    "    jubilee.move_xyz_absolute(z=150,velocity=15000)\n",
    "\n",
    "\n",
    "    jubilee.move_xyz_absolute(x=250,y=100,velocity=15000)\n",
    "    jubilee.move_xyz_absolute(z=120,velocity=15000)\n",
    "    time.sleep(5)\n",
    "    gri.open()\n",
    "    jubilee.move_xyz_absolute(z=100,velocity=15000)\n"
   ]
  },
  {
   "cell_type": "code",
   "execution_count": 26,
   "id": "69514b7f",
   "metadata": {},
   "outputs": [],
   "source": [
    "jubilee.move_xyz_absolute(x=30,y=80,z=200)"
   ]
  },
  {
   "cell_type": "code",
   "execution_count": 66,
   "id": "318c3784",
   "metadata": {},
   "outputs": [],
   "source": [
    "gri.close()"
   ]
  },
  {
   "cell_type": "code",
   "execution_count": 55,
   "id": "7a9f32ed",
   "metadata": {},
   "outputs": [
    {
     "name": "stdout",
     "output_type": "stream",
     "text": [
      "X:  140.00 | Y:  250.00 | Z:  160.00 || Passo: 10  mm\n",
      " Interrompido\n"
     ]
    }
   ],
   "source": [
    "jubilee.controlar_jubilee()"
   ]
  },
  {
   "cell_type": "code",
   "execution_count": 64,
   "id": "807764fa",
   "metadata": {},
   "outputs": [],
   "source": [
    "jubilee.move_xyz_absolute(z=250,velocity=15000)"
   ]
  },
  {
   "cell_type": "code",
   "execution_count": 62,
   "id": "9585090c",
   "metadata": {},
   "outputs": [],
   "source": [
    "jubilee.move_xyz_absolute(z=160,velocity=1000)"
   ]
  },
  {
   "cell_type": "code",
   "execution_count": 67,
   "id": "b5744045",
   "metadata": {},
   "outputs": [],
   "source": [
    "gri.uninstall()"
   ]
  }
 ],
 "metadata": {
  "kernelspec": {
   "display_name": "raspilum",
   "language": "python",
   "name": "python3"
  },
  "language_info": {
   "codemirror_mode": {
    "name": "ipython",
    "version": 3
   },
   "file_extension": ".py",
   "mimetype": "text/x-python",
   "name": "python",
   "nbconvert_exporter": "python",
   "pygments_lexer": "ipython3",
   "version": "3.10.18"
  }
 },
 "nbformat": 4,
 "nbformat_minor": 5
}
