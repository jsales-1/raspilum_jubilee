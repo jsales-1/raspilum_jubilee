{
 "cells": [
  {
   "cell_type": "markdown",
   "id": "403abfa7",
   "metadata": {},
   "source": [
    "#### Devido a organização das pastas, uso as bibliotecas \"os\" e \"sys\" para definidir o local como sendo na pasta anterior, a \"Controle_jubilee\""
   ]
  },
  {
   "cell_type": "code",
   "execution_count": 1,
   "id": "a46c9cc6",
   "metadata": {},
   "outputs": [],
   "source": [
    "import sys\n",
    "import os\n",
    "sys.path.append(os.path.abspath(\"..\"))"
   ]
  },
  {
   "cell_type": "markdown",
   "id": "7a092a4b",
   "metadata": {},
   "source": [
    "#### Em seguida, faço a importação os objetos e funções dos scripts Python. Recomendo que acesse esses arquivo .py para conferir melhor as "
   ]
  },
  {
   "cell_type": "code",
   "execution_count": 2,
   "id": "6296152c",
   "metadata": {},
   "outputs": [],
   "source": [
    "from jubilee_controller import JubileeMotionController\n",
    "import matplotlib.pyplot as plt\n",
    "import time\n",
    "import numpy as np \n",
    "from pynput import keyboard\n",
    "import cv2\n",
    "from datetime import datetime\n",
    "from camera_controller import camera_tool\n",
    "from email_sender import send_email\n",
    "from image_processing import detect_circle"
   ]
  },
  {
   "cell_type": "code",
   "execution_count": 3,
   "id": "4801867f",
   "metadata": {},
   "outputs": [],
   "source": [
    "jubilee = JubileeMotionController()"
   ]
  },
  {
   "cell_type": "code",
   "execution_count": 7,
   "id": "b26ad302",
   "metadata": {},
   "outputs": [
    {
     "name": "stdout",
     "output_type": "stream",
     "text": [
      "Reconnecting...\n"
     ]
    }
   ],
   "source": [
    "jubilee.reset()"
   ]
  },
  {
   "cell_type": "code",
   "execution_count": 4,
   "id": "35d87ef1",
   "metadata": {},
   "outputs": [],
   "source": [
    "jubilee.home_all(mesh_mode_z=False)"
   ]
  },
  {
   "cell_type": "code",
   "execution_count": 5,
   "id": "87f8b60f",
   "metadata": {},
   "outputs": [],
   "source": [
    "jubilee.move_xyz_absolute(z=120)"
   ]
  },
  {
   "cell_type": "code",
   "execution_count": 7,
   "id": "cccce266",
   "metadata": {},
   "outputs": [
    {
     "name": "stdout",
     "output_type": "stream",
     "text": [
      "X:  160.00 | Y:  200.00 | Z:   70.00 || Passo: 10  mm\n",
      " Interrompido\n"
     ]
    }
   ],
   "source": [
    "jubilee.controlar_jubilee()"
   ]
  },
  {
   "cell_type": "code",
   "execution_count": null,
   "id": "ad23982b",
   "metadata": {},
   "outputs": [
    {
     "data": {
      "text/plain": [
       "[(0, 200.0), (0, 200.0), (0, 200.0), (0, 200.0)]"
      ]
     },
     "execution_count": 10,
     "metadata": {},
     "output_type": "execute_result"
    }
   ],
   "source": [
    "jubilee.axis_limits"
   ]
  },
  {
   "cell_type": "code",
   "execution_count": 6,
   "id": "f953156b",
   "metadata": {},
   "outputs": [],
   "source": [
    "import lgpio"
   ]
  },
  {
   "cell_type": "code",
   "execution_count": 7,
   "id": "097fff06",
   "metadata": {},
   "outputs": [],
   "source": [
    "class Gripper:\n",
    "    def __init__(self,machine,servo_pin=13):\n",
    "\n",
    "        self.handle = lgpio.gpiochip_open(0)\n",
    "        self.servo_pin = servo_pin\n",
    "        self.machine = machine\n",
    "        self.move_velocity = 10000\n",
    "\n",
    "        self.machine.gcode(\"M208 Z100:300\")\n",
    "        self.machine.move_xyz_absolute(z=100)\n",
    "        \n",
    "\n",
    "    def install(self):\n",
    "        \"\"\"\n",
    "        Instala a ferramenta da câmera na máquina.\n",
    "\n",
    "        Este método move o cabeçote para as coordenadas específicas\n",
    "        necessárias para acoplar a câmera ao sistema Jubilee. As\n",
    "        Coodernadas foram descobertas empíricamente e podem ser \n",
    "        alteradas se necessário.\n",
    "        \"\"\"\n",
    "        self.machine.protect_tools(on=False)\n",
    "        \n",
    "        self.machine.move_xyz_absolute(y=220, velocity=self.move_velocity)\n",
    "        self.machine.move_xyz_absolute(x=40, velocity=self.move_velocity)\n",
    "        self.machine.gcode(\"G0 U70\")\n",
    "        self.machine.move_xyz_absolute(y=7, velocity=self.move_velocity)\n",
    "        self.machine.gcode(\"G0 U0\")\n",
    "        self.machine.move_xyz_absolute(y=70, velocity=self.move_velocity)\n",
    "        self.machine.move_xyz_absolute(x=70, y=120, velocity=self.move_velocity)\n",
    "\n",
    "        if self.machine.mode_protect_tools:\n",
    "            self.machine.protect_tools(on=False)\n",
    "\n",
    "    def uninstall(self):\n",
    "        \"\"\"\n",
    "        Remove a ferramenta da câmera da máquina.\n",
    "\n",
    "        Este método move o cabeçote para as coordenadas específicas\n",
    "        necessárias para desacoplar a câmera do sistema Jubilee.\n",
    "        \"\"\"\n",
    "        self.machine.protect_tools(on=False)\n",
    "\n",
    "        self.machine.move_xyz_absolute(y=90, velocity=self.move_velocity)\n",
    "        self.machine.move_xyz_absolute(x=40, velocity=self.move_velocity)\n",
    "        self.machine.move_xyz_absolute(y=7, velocity=self.move_velocity)\n",
    "        self.machine.gcode(\"G0 U70\")\n",
    "        self.machine.move_xyz_absolute(y=70, velocity=self.move_velocity)\n",
    "        self.machine.move_xyz_absolute(x=70, y=120, velocity=self.move_velocity)\n",
    "        self.machine.gcode(\"G0 U0\")\n",
    "\n",
    "        if self.machine.mode_protect_tools:\n",
    "            self.machine.protect_tools(on=False)\n",
    "\n",
    "\n",
    "\n",
    "    def set_angle(self,angle):\n",
    "        # Converte ângulo para duty cycle (0°=2.5%, 180°=12.5%)\n",
    "        duty = 2.5 + (angle / 180.0) * 10.0\n",
    "        lgpio.tx_pwm(self.handle, self.servo_pin, 50, duty)\n",
    "\n",
    "    def end(self):\n",
    "        lgpio.gpiochip_close(self.handle)\n",
    "    \n",
    "    def begin(self):\n",
    "        self.handle = lgpio.gpiochip_open(0)\n",
    "\n",
    "    \n",
    "    def open(self):\n",
    "        self.begin()\n",
    "        lgpio.gpio_claim_output(self.handle, self.servo_pin)\n",
    "        self.set_angle(30)\n",
    "        time.sleep(0.5)\n",
    "        self.end()\n",
    "    \n",
    "    def open_angles(self,angle):\n",
    "        self.begin()\n",
    "        lgpio.gpio_claim_output(self.handle, self.servo_pin)\n",
    "        self.set_angle(angle)\n",
    "        time.sleep(0.5)\n",
    "        self.end()\n",
    "\n",
    "    def close(self):\n",
    "        self.begin()\n",
    "        lgpio.gpio_claim_output(self.handle, self.servo_pin)\n",
    "        self.set_angle(0)\n",
    "        time.sleep(0.5)\n",
    "        self.end()"
   ]
  },
  {
   "cell_type": "code",
   "execution_count": 8,
   "id": "f1f94a1d",
   "metadata": {},
   "outputs": [],
   "source": [
    "gri = Gripper(jubilee)\n",
    "camera = camera_tool(jubilee)"
   ]
  },
  {
   "cell_type": "code",
   "execution_count": 12,
   "id": "9f56fe73",
   "metadata": {},
   "outputs": [],
   "source": [
    "for _ in range(0,3):\n",
    "    gri.install()\n",
    "    time.sleep(1)\n",
    "    gri.uninstall()"
   ]
  },
  {
   "cell_type": "code",
   "execution_count": 10,
   "id": "84550906",
   "metadata": {},
   "outputs": [
    {
     "ename": "TypeError",
     "evalue": "JubileeMotionController.protect_tools() missing 1 required positional argument: 'on'",
     "output_type": "error",
     "traceback": [
      "\u001b[0;31m---------------------------------------------------------------------------\u001b[0m",
      "\u001b[0;31mTypeError\u001b[0m                                 Traceback (most recent call last)",
      "Cell \u001b[0;32mIn[10], line 1\u001b[0m\n\u001b[0;32m----> 1\u001b[0m \u001b[43mjubilee\u001b[49m\u001b[38;5;241;43m.\u001b[39;49m\u001b[43mprotect_tools\u001b[49m\u001b[43m(\u001b[49m\u001b[43m)\u001b[49m\n",
      "\u001b[0;31mTypeError\u001b[0m: JubileeMotionController.protect_tools() missing 1 required positional argument: 'on'"
     ]
    }
   ],
   "source": [
    "jubilee.protect_tools()"
   ]
  },
  {
   "cell_type": "code",
   "execution_count": 11,
   "id": "e7175e86",
   "metadata": {},
   "outputs": [
    {
     "ename": "KeyboardInterrupt",
     "evalue": "",
     "output_type": "error",
     "traceback": [
      "\u001b[0;31m---------------------------------------------------------------------------\u001b[0m",
      "\u001b[0;31mKeyboardInterrupt\u001b[0m                         Traceback (most recent call last)",
      "Cell \u001b[0;32mIn[11], line 3\u001b[0m\n\u001b[1;32m      1\u001b[0m \u001b[38;5;28;01mfor\u001b[39;00m _ \u001b[38;5;129;01min\u001b[39;00m \u001b[38;5;28mrange\u001b[39m(\u001b[38;5;241m0\u001b[39m,\u001b[38;5;241m10\u001b[39m):\n\u001b[1;32m      2\u001b[0m     camera\u001b[38;5;241m.\u001b[39minstall()\n\u001b[0;32m----> 3\u001b[0m     \u001b[43mtime\u001b[49m\u001b[38;5;241;43m.\u001b[39;49m\u001b[43msleep\u001b[49m\u001b[43m(\u001b[49m\u001b[38;5;241;43m1\u001b[39;49m\u001b[43m)\u001b[49m\n\u001b[1;32m      4\u001b[0m     camera\u001b[38;5;241m.\u001b[39muninstall()\n\u001b[1;32m      5\u001b[0m     time\u001b[38;5;241m.\u001b[39msleep(\u001b[38;5;241m1\u001b[39m)\n",
      "\u001b[0;31mKeyboardInterrupt\u001b[0m: "
     ]
    }
   ],
   "source": [
    "for _ in range(0,10):\n",
    "    camera.install()\n",
    "    time.sleep(1)\n",
    "    camera.uninstall()\n",
    "    time.sleep(1)\n",
    "    gri.install()\n",
    "    time.sleep(1)\n",
    "    gri.uninstall()"
   ]
  },
  {
   "cell_type": "code",
   "execution_count": 51,
   "id": "901932d0",
   "metadata": {},
   "outputs": [],
   "source": [
    "jubilee.move_xyz_absolute(z=220)"
   ]
  },
  {
   "cell_type": "code",
   "execution_count": 35,
   "id": "ea8d1ddd",
   "metadata": {},
   "outputs": [],
   "source": [
    "gri.install()"
   ]
  },
  {
   "cell_type": "code",
   "execution_count": 25,
   "id": "ee7d2762",
   "metadata": {},
   "outputs": [],
   "source": [
    "for _ in range(5):\n",
    "    time.sleep(2)\n",
    "    gri.close()\n",
    "    jubilee.move_xyz_absolute(z=150,velocity=15000)\n",
    "    jubilee.move_xyz_absolute(x=100,y=240,velocity=15000)\n",
    "    jubilee.move_xyz_absolute(z=100,velocity=15000)\n",
    "    time.sleep(5)\n",
    "    gri.open()\n",
    "    jubilee.move_xyz_absolute(z=150,velocity=15000)\n",
    "    jubilee.move_xyz_absolute(x=40,y=300,velocity=15000)\n",
    "    jubilee.move_xyz_absolute(x=100,y=240,velocity=15000)\n",
    "    jubilee.move_xyz_absolute(z=100,velocity=15000)\n",
    "    time.sleep(5)\n",
    "    gri.close()\n",
    "    jubilee.move_xyz_absolute(z=150,velocity=15000)\n",
    "\n",
    "\n",
    "    jubilee.move_xyz_absolute(x=250,y=100,velocity=15000)\n",
    "    jubilee.move_xyz_absolute(z=120,velocity=15000)\n",
    "    time.sleep(5)\n",
    "    gri.open()\n",
    "    jubilee.move_xyz_absolute(z=100,velocity=15000)\n"
   ]
  },
  {
   "cell_type": "code",
   "execution_count": 51,
   "id": "69514b7f",
   "metadata": {},
   "outputs": [],
   "source": [
    "jubilee.move_xyz_absolute(x=100,y=180,z=110)"
   ]
  },
  {
   "cell_type": "code",
   "execution_count": 52,
   "id": "318c3784",
   "metadata": {},
   "outputs": [],
   "source": [
    "gri.open_angles(90)"
   ]
  },
  {
   "cell_type": "code",
   "execution_count": 47,
   "id": "7a9f32ed",
   "metadata": {},
   "outputs": [
    {
     "name": "stdout",
     "output_type": "stream",
     "text": [
      "X:  120.00 | Y:  270.00 | Z:  126.00 || Passo: 10  mm\n",
      " Interrompido\n"
     ]
    }
   ],
   "source": [
    "jubilee.keyboard_controll()"
   ]
  },
  {
   "cell_type": "code",
   "execution_count": 64,
   "id": "807764fa",
   "metadata": {},
   "outputs": [],
   "source": [
    "jubilee.move_xyz_absolute(z=250,velocity=15000)"
   ]
  },
  {
   "cell_type": "code",
   "execution_count": 62,
   "id": "9585090c",
   "metadata": {},
   "outputs": [],
   "source": [
    "jubilee.move_xyz_absolute(z=160,velocity=1000)"
   ]
  },
  {
   "cell_type": "code",
   "execution_count": 53,
   "id": "b5744045",
   "metadata": {},
   "outputs": [],
   "source": [
    "gri.uninstall()"
   ]
  }
 ],
 "metadata": {
  "kernelspec": {
   "display_name": "raspilum",
   "language": "python",
   "name": "python3"
  },
  "language_info": {
   "codemirror_mode": {
    "name": "ipython",
    "version": 3
   },
   "file_extension": ".py",
   "mimetype": "text/x-python",
   "name": "python",
   "nbconvert_exporter": "python",
   "pygments_lexer": "ipython3",
   "version": "3.10.18"
  }
 },
 "nbformat": 4,
 "nbformat_minor": 5
}
