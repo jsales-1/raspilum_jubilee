{
 "cells": [
  {
   "cell_type": "markdown",
   "id": "403abfa7",
   "metadata": {},
   "source": [
    "#### Devido a organização das pastas, uso as bibliotecas \"os\" e \"sys\" para definidir o local como sendo na pasta anterior, a \"Controle_jubilee\""
   ]
  },
  {
   "cell_type": "code",
   "execution_count": 71,
   "id": "a46c9cc6",
   "metadata": {},
   "outputs": [],
   "source": [
    "import sys\n",
    "import os\n",
    "sys.path.append(os.path.abspath(\"..\"))"
   ]
  },
  {
   "cell_type": "markdown",
   "id": "7a092a4b",
   "metadata": {},
   "source": [
    "#### Em seguida, faço a importação os objetos e funções dos scripts Python. Recomendo que acesse esses arquivo .py para conferir melhor as "
   ]
  },
  {
   "cell_type": "code",
   "execution_count": 72,
   "id": "6296152c",
   "metadata": {},
   "outputs": [],
   "source": [
    "from jubilee_controller import JubileeMotionController\n",
    "import matplotlib.pyplot as plt\n",
    "import time\n",
    "import numpy as np \n",
    "from pynput import keyboard\n",
    "import cv2\n",
    "from datetime import datetime\n",
    "from camera_controller import camera_tool\n",
    "from email_sender import send_email\n",
    "from image_processing import detect_circle"
   ]
  },
  {
   "cell_type": "code",
   "execution_count": 73,
   "id": "4801867f",
   "metadata": {},
   "outputs": [],
   "source": [
    "jubilee = JubileeMotionController()"
   ]
  },
  {
   "cell_type": "code",
   "execution_count": 7,
   "id": "b26ad302",
   "metadata": {},
   "outputs": [
    {
     "name": "stdout",
     "output_type": "stream",
     "text": [
      "Reconnecting...\n"
     ]
    }
   ],
   "source": [
    "jubilee.reset()"
   ]
  },
  {
   "cell_type": "code",
   "execution_count": 74,
   "id": "35d87ef1",
   "metadata": {},
   "outputs": [],
   "source": [
    "jubilee.home_all(mesh_mode_z=False)"
   ]
  },
  {
   "cell_type": "code",
   "execution_count": 75,
   "id": "87f8b60f",
   "metadata": {},
   "outputs": [],
   "source": [
    "jubilee.move_xyz_absolute(z=60)"
   ]
  },
  {
   "cell_type": "code",
   "execution_count": 7,
   "id": "cccce266",
   "metadata": {},
   "outputs": [
    {
     "name": "stdout",
     "output_type": "stream",
     "text": [
      "X:  160.00 | Y:  200.00 | Z:   70.00 || Passo: 10  mm\n",
      " Interrompido\n"
     ]
    }
   ],
   "source": [
    "jubilee.controlar_jubilee()"
   ]
  },
  {
   "cell_type": "code",
   "execution_count": 10,
   "id": "ad23982b",
   "metadata": {},
   "outputs": [],
   "source": [
    "camera = camera_tool(jubilee,(302,10))"
   ]
  },
  {
   "cell_type": "code",
   "execution_count": 12,
   "id": "30c20c20",
   "metadata": {},
   "outputs": [],
   "source": [
    "camera.uninstall()"
   ]
  },
  {
   "cell_type": "code",
   "execution_count": 8,
   "id": "c48adae1",
   "metadata": {},
   "outputs": [],
   "source": [
    "for i in range(1):\n",
    "    camera.install()\n",
    "    camera.uninstall()\n",
    "    time.sleep(5)"
   ]
  },
  {
   "cell_type": "code",
   "execution_count": 9,
   "id": "3376b022",
   "metadata": {},
   "outputs": [],
   "source": [
    "from gripper_controller import Gripper"
   ]
  },
  {
   "cell_type": "code",
   "execution_count": 10,
   "id": "f1f94a1d",
   "metadata": {},
   "outputs": [],
   "source": [
    "gri = Gripper(jubilee)\n",
    "camera = camera_tool(jubilee)"
   ]
  },
  {
   "cell_type": "code",
   "execution_count": 11,
   "id": "9f56fe73",
   "metadata": {},
   "outputs": [],
   "source": [
    "for _ in range(0,1):\n",
    "    gri.install()\n",
    "    time.sleep(1)\n",
    "    gri.uninstall()"
   ]
  },
  {
   "cell_type": "code",
   "execution_count": 13,
   "id": "e7175e86",
   "metadata": {},
   "outputs": [],
   "source": [
    "for _ in range(0,2):\n",
    "    camera.install()\n",
    "    time.sleep(1)\n",
    "    camera.uninstall()\n",
    "    time.sleep(1)\n",
    "    gri.install()\n",
    "    time.sleep(1)\n",
    "    gri.uninstall()"
   ]
  },
  {
   "cell_type": "code",
   "execution_count": 51,
   "id": "901932d0",
   "metadata": {},
   "outputs": [],
   "source": [
    "jubilee.move_xyz_absolute(z=220)"
   ]
  },
  {
   "cell_type": "code",
   "execution_count": 35,
   "id": "ea8d1ddd",
   "metadata": {},
   "outputs": [],
   "source": [
    "gri.install()"
   ]
  },
  {
   "cell_type": "code",
   "execution_count": 99,
   "id": "5570cae7",
   "metadata": {},
   "outputs": [],
   "source": [
    "\n",
    "\n",
    "class Pipette:\n",
    "    def __init__(self,machine,parking_position_xy=(138,18)):\n",
    "\n",
    "        self.parking_position_x,self.parking_position_y = parking_position_xy\n",
    "        self.machine = machine\n",
    "        self.move_velocity = 10000\n",
    "\n",
    "        self.machine.gcode(\"M208 Z100:300\")\n",
    "        self.machine.gcode('M98 P\"/sys/homev.g\"')\n",
    "        if self.machine.position[2]<100:\n",
    "            self.machine.move_xyz_absolute(z=100)\n",
    "        \n",
    "        self.liquid_ul=0\n",
    "\n",
    "    def install(self):\n",
    "\n",
    "        self.machine.protect_tools(on=False)\n",
    "        \n",
    "        self.machine.move_xyz_absolute(y=220, velocity=self.move_velocity)\n",
    "        self.machine.move_xyz_absolute(x=self.parking_position_x, velocity=self.move_velocity)\n",
    "        self.machine.gcode(\"G0 U70\")\n",
    "        self.machine.move_xyz_absolute(y=self.parking_position_y, velocity=self.move_velocity)\n",
    "        self.machine.gcode(\"G0 U0\")\n",
    "        self.machine.move_xyz_absolute(y=70, velocity=self.move_velocity)\n",
    "\n",
    "        if self.machine.mode_protect_tools:\n",
    "            self.machine.protect_tools(on=False)\n",
    "\n",
    "    def uninstall(self):\n",
    "\n",
    "        self.machine.protect_tools(on=False)\n",
    "\n",
    "        self.machine.move_xyz_absolute(y=90, velocity=self.move_velocity)\n",
    "        self.machine.move_xyz_absolute(x=self.parking_position_x, velocity=self.move_velocity)\n",
    "        self.machine.move_xyz_absolute(y=self.parking_position_y, velocity=self.move_velocity)\n",
    "        self.machine.gcode(\"G0 U70\")\n",
    "        self.machine.move_xyz_absolute(y=70, velocity=self.move_velocity)\n",
    "        self.machine.gcode(\"G0 U0\")\n",
    "\n",
    "        if self.machine.mode_protect_tools:\n",
    "            self.machine.protect_tools(on=False)\n",
    "\n",
    "    \n",
    "    def press(self,ul):\n",
    "        if ul>1200:\n",
    "            print(\"Não tente pipetar mais que 1200ul\")\n",
    "            pass\n",
    "\n",
    "        \n",
    "        \n",
    "        if self.liquid_ul > 0:\n",
    "            self.machine.gcode(\"G0 V350\")\n",
    "            self.liquid_ul = 0\n",
    "        \n",
    "        next_positon = ul/4\n",
    "        self.machine.gcode(f\"G0 V{next_positon}\")\n",
    "    \n",
    "\n",
    "    def aspirate(self):\n",
    "        positions = self.machine.gcode(\"M114\")\n",
    "        valor_v = float(positions.split(\"V:\")[1].split(\"E:\")[0].strip())\n",
    "        if valor_v==0:\n",
    "            print(\"Use o método 'press' antes\")\n",
    "            pass\n",
    "        \n",
    "        self.liquid_ul = valor_v*4\n",
    "        self.machine.gcode(\"G0 V0\")\n",
    "    \n",
    "    def dispense(self):\n",
    "        self.machine.gcode(\"G0 V400\")\n",
    "        self.liquid_ul = 0\n",
    "\n",
    "    def drop(self):\n",
    "            self.machine.gcode(\"G0 V450\")\n",
    "            self.liquid_ul = 0\n",
    "            self.machine.gcode(\"G0 V0\")\n"
   ]
  },
  {
   "cell_type": "code",
   "execution_count": 77,
   "id": "34739cd7",
   "metadata": {},
   "outputs": [],
   "source": [
    "jubilee.protect_tools(True)"
   ]
  },
  {
   "cell_type": "code",
   "execution_count": 100,
   "id": "01b58f73",
   "metadata": {},
   "outputs": [],
   "source": [
    "pipeta = Pipette(jubilee)"
   ]
  },
  {
   "cell_type": "code",
   "execution_count": 79,
   "id": "7f206971",
   "metadata": {},
   "outputs": [],
   "source": [
    "pipeta.install()"
   ]
  },
  {
   "cell_type": "code",
   "execution_count": 54,
   "id": "5a4e88a5",
   "metadata": {},
   "outputs": [],
   "source": [
    "jubilee.move_xyz_absolute(y=200)"
   ]
  },
  {
   "cell_type": "code",
   "execution_count": 62,
   "id": "751280cf",
   "metadata": {},
   "outputs": [],
   "source": [
    "pipeta.drop()"
   ]
  },
  {
   "cell_type": "code",
   "execution_count": 63,
   "id": "b653e2e2",
   "metadata": {},
   "outputs": [],
   "source": [
    "jubilee.move_xyz_absolute(x=188,y=335)\n",
    "jubilee.move_xyz_absolute(z=160,velocity=4000)\n",
    "jubilee.move_xyz_absolute(z=250,velocity=4000)"
   ]
  },
  {
   "cell_type": "code",
   "execution_count": 92,
   "id": "70d8826b",
   "metadata": {},
   "outputs": [],
   "source": [
    "pipeta.press(100)"
   ]
  },
  {
   "cell_type": "code",
   "execution_count": 95,
   "id": "33b16b13",
   "metadata": {},
   "outputs": [
    {
     "data": {
      "text/plain": [
       "0.0"
      ]
     },
     "execution_count": 95,
     "metadata": {},
     "output_type": "execute_result"
    }
   ],
   "source": [
    "positions = jubilee.gcode(\"M114\")\n",
    "valor_v = float(positions.split(\"V:\")[1].split(\"E:\")[0].strip())\n",
    "valor_v"
   ]
  },
  {
   "cell_type": "code",
   "execution_count": 89,
   "id": "7b1bc3ce",
   "metadata": {},
   "outputs": [
    {
     "data": {
      "text/plain": [
       "0"
      ]
     },
     "execution_count": 89,
     "metadata": {},
     "output_type": "execute_result"
    }
   ],
   "source": [
    "pipeta.liquid_ul"
   ]
  },
  {
   "cell_type": "code",
   "execution_count": 103,
   "id": "53166172",
   "metadata": {},
   "outputs": [],
   "source": [
    "for i in range(9):  \n",
    "    jubilee.move_xyz_absolute(x=88,y=310,velocity=15000)\n",
    "    pipeta.press(1000)\n",
    "    jubilee.move_xyz_absolute(z=165,velocity=15000)\n",
    "    pipeta.aspirate()\n",
    "    time.sleep(1)\n",
    "    jubilee.move_xyz_absolute(z=285,velocity=15000)\n",
    "    jubilee.move_xyz_absolute(x=88,y=165,velocity=15000)\n",
    "    pipeta.dispense()"
   ]
  },
  {
   "cell_type": "code",
   "execution_count": 104,
   "id": "d8da35bb",
   "metadata": {},
   "outputs": [],
   "source": [
    "pipeta.drop()"
   ]
  },
  {
   "cell_type": "code",
   "execution_count": 105,
   "id": "4831c5c0",
   "metadata": {},
   "outputs": [],
   "source": [
    "pipeta.uninstall()"
   ]
  }
 ],
 "metadata": {
  "kernelspec": {
   "display_name": "raspilum",
   "language": "python",
   "name": "python3"
  },
  "language_info": {
   "codemirror_mode": {
    "name": "ipython",
    "version": 3
   },
   "file_extension": ".py",
   "mimetype": "text/x-python",
   "name": "python",
   "nbconvert_exporter": "python",
   "pygments_lexer": "ipython3",
   "version": "3.10.18"
  }
 },
 "nbformat": 4,
 "nbformat_minor": 5
}
