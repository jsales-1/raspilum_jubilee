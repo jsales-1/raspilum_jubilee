{
 "cells": [
  {
   "cell_type": "code",
   "execution_count": 7,
   "id": "bdac67fb",
   "metadata": {},
   "outputs": [],
   "source": [
    "from PIL import Image\n",
    "import cv2\n",
    "import numpy as np\n",
    "import matplotlib.pyplot as plt\n",
    "import matplotlib.gridspec as gridspec\n",
    "from sklearn.linear_model import LinearRegression\n",
    "import os\n",
    "import pandas as pd"
   ]
  },
  {
   "cell_type": "code",
   "execution_count": 8,
   "id": "945cee46",
   "metadata": {},
   "outputs": [],
   "source": [
    "\n",
    "\n",
    "\n",
    "def detect_circle(path: str, max_min_radius: tuple):\n",
    "    original_pil = Image.open(path)\n",
    "    gray_pil = original_pil.convert(\"L\")\n",
    "    gray = np.array(gray_pil)\n",
    "\n",
    "    gray_blur = cv2.GaussianBlur(gray, (9, 9), 2)\n",
    "\n",
    "    circles = cv2.HoughCircles(\n",
    "        gray_blur,\n",
    "        cv2.HOUGH_GRADIENT,\n",
    "        dp=1.2,\n",
    "        minDist=100,\n",
    "        param1=100,\n",
    "        param2=30,\n",
    "        minRadius=max_min_radius[0],\n",
    "        maxRadius=max_min_radius[1]\n",
    "    )\n",
    "\n",
    "    frame = np.array(original_pil)\n",
    "\n",
    "\n",
    "    if circles is not None:\n",
    "        circles = np.round(circles[0, :]).astype(\"int\")\n",
    "        circles = sorted(circles, key=lambda x: x[2], reverse=True)\n",
    "\n",
    "        x, y, r = circles[0]\n",
    "        cv2.circle(frame, (x, y), r, (0, 255, 0), 4)\n",
    "        n = 18\n",
    "        r_reduced = max(1, r - n)\n",
    "        cv2.circle(frame, (x, y), r_reduced, (255, 0, 255), 2)\n",
    "\n",
    "        mask = np.zeros_like(gray)\n",
    "        cv2.circle(mask, (x, y), r_reduced, (255, 255, 255), -1)\n",
    "        masked = cv2.bitwise_and(gray, mask)\n",
    "\n",
    "    else:\n",
    "        masked = np.zeros_like(gray)\n",
    "\n",
    "    return masked\n"
   ]
  },
  {
   "cell_type": "code",
   "execution_count": 9,
   "id": "7156f009",
   "metadata": {},
   "outputs": [],
   "source": [
    "path_list = os.listdir(\"fotos_teste\")\n",
    "order = []\n",
    "\n",
    "for i in range(len(path_list)):\n",
    "    for j in range(len(path_list)):\n",
    "        if int(path_list[j][:2]) == i:\n",
    "            order.append(path_list[j])\n"
   ]
  },
  {
   "cell_type": "code",
   "execution_count": 10,
   "id": "591bb7d7",
   "metadata": {},
   "outputs": [],
   "source": [
    "path_image_list = ['fotos_teste/' + i for i in order]"
   ]
  },
  {
   "cell_type": "code",
   "execution_count": 11,
   "id": "1ff28818",
   "metadata": {},
   "outputs": [],
   "source": [
    "df = pd.DataFrame()\n",
    "datas = []\n",
    "samples = []\n",
    "\n",
    "for path in path_image_list:\n",
    "    for i in range(1,4):\n",
    "        id = \"placa \" + str(i)\n",
    "        if id in path:\n",
    "            id_name = id\n",
    "    \n",
    "    data = path[-12:].removesuffix('.jpg').replace(\"_\",\":\")\n",
    "\n",
    "    datas.append(data)\n",
    "    samples.append(id_name)\n",
    "\n",
    "\n",
    "df['Hora'] = datas\n",
    "df['Amostra'] = samples\n",
    "df['Pasta'] = path_image_list"
   ]
  },
  {
   "cell_type": "code",
   "execution_count": 19,
   "id": "066e68c7",
   "metadata": {},
   "outputs": [
    {
     "data": {
      "text/plain": [
       "(33.0, 42.0)"
      ]
     },
     "execution_count": 19,
     "metadata": {},
     "output_type": "execute_result"
    },
    {
     "data": {
      "image/png": "[encoded data removed]",
      "text/plain": [
       "<Figure size 640x480 with 1 Axes>"
      ]
     },
     "metadata": {},
     "output_type": "display_data"
    }
   ],
   "source": [
    "for j in range(1,4):\n",
    "    filtro = df['Amostra'] == f'placa {j}'\n",
    "    df_p_uso = df[filtro]\n",
    "\n",
    "    medias = []\n",
    "    progresso = []\n",
    "\n",
    "    for i,pasta in enumerate(df_p_uso['Pasta']):\n",
    "        \n",
    "        imagem = detect_circle(pasta,(200,210))\n",
    "        media = imagem.reshape(-1).mean()\n",
    "\n",
    "        medias.append(media)\n",
    "        progresso.append(i)\n",
    "\n",
    "\n",
    "    plt.plot(progresso,medias, label=f'placa {j}')\n",
    "\n",
    "plt.legend()\n",
    "plt.xlim(33)\n"
   ]
  },
  {
   "cell_type": "code",
   "execution_count": null,
   "id": "4dc5a5d8",
   "metadata": {},
   "outputs": [],
   "source": []
  }
 ],
 "metadata": {
  "kernelspec": {
   "display_name": "geralpy",
   "language": "python",
   "name": "python3"
  },
  "language_info": {
   "codemirror_mode": {
    "name": "ipython",
    "version": 3
   },
   "file_extension": ".py",
   "mimetype": "text/x-python",
   "name": "python",
   "nbconvert_exporter": "python",
   "pygments_lexer": "ipython3",
   "version": "3.13.5"
  }
 },
 "nbformat": 4,
 "nbformat_minor": 5
}
