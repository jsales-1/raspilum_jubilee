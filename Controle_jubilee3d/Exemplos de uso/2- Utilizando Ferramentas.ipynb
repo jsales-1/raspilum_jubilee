{
 "cells": [
  {
   "cell_type": "markdown",
   "id": "513861cf",
   "metadata": {},
   "source": [
    "<h1><p align = 'center'> Use o ambiente \"raspilum\" (Python 3.10.18)</h4></p>\n"
   ]
  },
  {
   "cell_type": "markdown",
   "id": "147ddf67",
   "metadata": {},
   "source": [
    "<h5> <P align='justify'>Nas células a seguir, faço todas as importações e processos iniciais necessários, como calibração e proteção de ferramentas. </p></h5>"
   ]
  },
  {
   "cell_type": "code",
   "execution_count": 1,
   "id": "a46c9cc6",
   "metadata": {},
   "outputs": [],
   "source": [
    "import sys\n",
    "import os\n",
    "sys.path.append(os.path.abspath(\"..\"))"
   ]
  },
  {
   "cell_type": "code",
   "execution_count": 15,
   "id": "6296152c",
   "metadata": {},
   "outputs": [],
   "source": [
    "from jubilee_controller import JubileeMotionController\n",
    "import matplotlib.pyplot as plt\n",
    "import time\n",
    "import numpy as np \n",
    "from pynput import keyboard\n",
    "import cv2\n",
    "from datetime import datetime\n",
    "from camera_controller import camera_tool\n",
    "from email_sender import send_email\n",
    "from image_processing import detect_circle\n",
    "from gripper_controller import Gripper\n",
    "from micropipette_controller import Micropipette"
   ]
  },
  {
   "cell_type": "code",
   "execution_count": 3,
   "id": "4801867f",
   "metadata": {},
   "outputs": [],
   "source": [
    "jubilee = JubileeMotionController()"
   ]
  },
  {
   "cell_type": "code",
   "execution_count": 6,
   "id": "b26ad302",
   "metadata": {},
   "outputs": [
    {
     "name": "stdout",
     "output_type": "stream",
     "text": [
      "Reconectando...\n"
     ]
    }
   ],
   "source": [
    "jubilee.reset()"
   ]
  },
  {
   "cell_type": "code",
   "execution_count": 5,
   "id": "35d87ef1",
   "metadata": {},
   "outputs": [],
   "source": [
    "jubilee.home_all(mesh_mode_z=False)\n",
    "jubilee.protect_tools(on=True)\n",
    "jubilee.move_xyz_absolute(z=50)"
   ]
  },
  {
   "cell_type": "markdown",
   "id": "6869dd2f",
   "metadata": {},
   "source": [
    "<h2><strong>Câmera</strong>"
   ]
  },
  {
   "cell_type": "markdown",
   "id": "78cf8424",
   "metadata": {},
   "source": [
    "<h5> <P align='justify'> As células a seguir fazem a defição o objeto da câmera e sua instalação</p></h5>"
   ]
  },
  {
   "cell_type": "code",
   "execution_count": 7,
   "id": "1c204bf7",
   "metadata": {},
   "outputs": [],
   "source": [
    "camera = camera_tool(jubilee)"
   ]
  },
  {
   "cell_type": "code",
   "execution_count": 10,
   "id": "6ab51779",
   "metadata": {},
   "outputs": [],
   "source": [
    "camera.install()"
   ]
  },
  {
   "cell_type": "markdown",
   "id": "721e6352",
   "metadata": {},
   "source": [
    "<h5> <P align='justify'> Usando o método \"photo\" salva a imagem. É necesário ajustar o foco antes, então recomendo que ative o ambiente <code>raspilum</code> no terminal e rode o código <code>camera.py</code>. Isso deve abrir o vídeo da câmera de forma contínua em outra janela. Depois de ajustar, pode fechar o vídeo apertando a tecla \"q\". Para tirar fotos com a câmera, use o comando \"photo\", como exemplificado a baixo.</p></h5>\n"
   ]
  },
  {
   "cell_type": "code",
   "execution_count": 12,
   "id": "16352365",
   "metadata": {},
   "outputs": [
    {
     "name": "stdout",
     "output_type": "stream",
     "text": [
      "X:   60.00 | Y:  190.00 | Z:  220.00 || Passo: 10  mm\n",
      "Interrompido\n"
     ]
    }
   ],
   "source": [
    "jubilee.keyboard_controll() #Abra a câmera pelo terminal antes."
   ]
  },
  {
   "cell_type": "code",
   "execution_count": 13,
   "id": "de25da04",
   "metadata": {},
   "outputs": [],
   "source": [
    "camera.photo(\"Foto qualquer.png\")"
   ]
  },
  {
   "cell_type": "markdown",
   "id": "f43576bb",
   "metadata": {},
   "source": [
    "<h5> <P align='justify'>Após o uso, guarde a ferramenta usando o método <code>uninstall</code>.</p></h5>\n"
   ]
  },
  {
   "cell_type": "code",
   "execution_count": 14,
   "id": "f6136396",
   "metadata": {},
   "outputs": [],
   "source": [
    "camera.uninstall()"
   ]
  },
  {
   "cell_type": "markdown",
   "id": "bc01544d",
   "metadata": {},
   "source": [
    "<h2><strong>Micropipeta</strong>"
   ]
  },
  {
   "cell_type": "code",
   "execution_count": 17,
   "id": "d80ef520",
   "metadata": {},
   "outputs": [],
   "source": [
    "pipeta = Micropipette(jubilee,parking_position_xy=(138,18),move_velocity=3000)"
   ]
  },
  {
   "cell_type": "markdown",
   "id": "3128fe07",
   "metadata": {},
   "source": [
    "<h5> <P align='justify'>Quando o método <code>install</code> é utilizado, a altura mínima no eixo z é redefinida para 160, permitindo que haja espaço suficiente para a movimentação da pipetadora com a ponteira. Caso a altura seja menor que 160, a plataforma é descida automaticamente.</p></h5>"
   ]
  },
  {
   "cell_type": "code",
   "execution_count": 21,
   "id": "10635186",
   "metadata": {},
   "outputs": [],
   "source": [
    "pipeta.install()"
   ]
  },
  {
   "cell_type": "markdown",
   "id": "f0da64ed",
   "metadata": {},
   "source": [
    "<h5> <p align='justify'>Coloque com béquer de 50ml de capacidade com 40 ml de água no centro da plataforma. <br>Adicione a ponteira na pipetadora manualmente. Esse é um processo que pode ser feito de forma automática, posicionando a caixa de ponteira e conferindo as coordenadas corretas para o encaixe, mas para esse exemplo, faça isso manualmente.</p></h5>"
   ]
  },
  {
   "cell_type": "code",
   "execution_count": 33,
   "id": "3d6b7e4f",
   "metadata": {},
   "outputs": [],
   "source": [
    "jubilee.move_xyz_absolute(z=230)\n",
    "jubilee.move_xyz_absolute(x=165,y=250,velocity=3000)"
   ]
  },
  {
   "cell_type": "markdown",
   "id": "9180e4bc",
   "metadata": {},
   "source": [
    "<h5> <p align='justify'>Confira se a ponteira está alinhada com o béquer. Caso esteja, pode rodar a próxima célula, se não, então faça o alinhamento. <br> A próxima célula usa o método <code>press</code> da micropipeta, o qual recebe um valor de volume a ser sugado em microlitros. Em seguida, o béquer é levantado, o método <code>aspirate</code> da micropipeta é utilizado, fazendo com que o líquido seja sugado, e então o béquer é abaixado. </p></h5>"
   ]
  },
  {
   "cell_type": "code",
   "execution_count": null,
   "id": "467006ce",
   "metadata": {},
   "outputs": [],
   "source": [
    "pipeta.press(200)\n",
    "jubilee.move_xyz_absolute(z=165)\n",
    "pipeta.aspirate()\n",
    "jubilee.move_xyz_absolute(z=220)"
   ]
  },
  {
   "cell_type": "markdown",
   "id": "2704faf9",
   "metadata": {},
   "source": [
    "<h5> <p align='justify'>Por fim, uso o método <code>dispense</code> para liberar o líquido. É importante ressaltar que a depender a viscosidade do líquido, ele pode começar a formar uma bolha na ponta caso fique muito tempo parado sem ser dispensado. </p></h5>"
   ]
  },
  {
   "cell_type": "code",
   "execution_count": 35,
   "id": "1b6e91e3",
   "metadata": {},
   "outputs": [],
   "source": [
    "pipeta.dispense()\n"
   ]
  },
  {
   "cell_type": "markdown",
   "id": "7cad9bc6",
   "metadata": {},
   "source": [
    "<h5> <p align='justify'>Vamos agora fazer um loop de coleta e dispensa de líquido </p></h5>"
   ]
  },
  {
   "cell_type": "code",
   "execution_count": 37,
   "id": "9f813904",
   "metadata": {},
   "outputs": [
    {
     "name": "stdout",
     "output_type": "stream",
     "text": [
      "100 ul\n",
      "400 ul\n",
      "700 ul\n",
      "1000 ul\n"
     ]
    }
   ],
   "source": [
    "for i in range(100,1300,300):\n",
    "    print(f\"{i} ul\")\n",
    "    pipeta.press(i)\n",
    "    jubilee.move_xyz_absolute(z=165)\n",
    "    pipeta.aspirate()\n",
    "    jubilee.move_xyz_absolute(z=220)\n",
    "    pipeta.dispense()\n"
   ]
  },
  {
   "cell_type": "markdown",
   "id": "fe070c69",
   "metadata": {},
   "source": [
    "<h5> <p align='justify'>Para liberar a ponteira, use o método <code>eject_tip</code></p></h5>"
   ]
  },
  {
   "cell_type": "code",
   "execution_count": 38,
   "id": "adfcda01",
   "metadata": {},
   "outputs": [],
   "source": [
    "pipeta.eject_tip()"
   ]
  },
  {
   "cell_type": "markdown",
   "id": "4e839023",
   "metadata": {},
   "source": [
    "<h5> <p align='justify'>E após o uso, guarde a ferramenta usando o seu método de desinstalação</p></h5>"
   ]
  },
  {
   "cell_type": "code",
   "execution_count": 41,
   "id": "48dc54f6",
   "metadata": {},
   "outputs": [],
   "source": [
    "pipeta.uninstall()"
   ]
  }
 ],
 "metadata": {
  "kernelspec": {
   "display_name": "raspilum",
   "language": "python",
   "name": "python3"
  },
  "language_info": {
   "codemirror_mode": {
    "name": "ipython",
    "version": 3
   },
   "file_extension": ".py",
   "mimetype": "text/x-python",
   "name": "python",
   "nbconvert_exporter": "python",
   "pygments_lexer": "ipython3",
   "version": "3.10.18"
  }
 },
 "nbformat": 4,
 "nbformat_minor": 5
}
