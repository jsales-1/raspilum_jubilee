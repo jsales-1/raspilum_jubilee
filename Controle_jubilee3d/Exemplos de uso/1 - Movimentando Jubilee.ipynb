{
 "cells": [
  {
   "cell_type": "markdown",
   "id": "513861cf",
   "metadata": {},
   "source": [
    "<h1><p align = 'center'> <strong >Olá<br></strong>Use o ambiente \"raspilum\" (Python 3.10.18)</h4></p>\n"
   ]
  },
  {
   "cell_type": "markdown",
   "id": "403abfa7",
   "metadata": {},
   "source": [
    "<h5>Devido a organização das pastas, uso as bibliotecas \"os\" e \"sys\" para definidir o local como sendo na pasta anterior, a \"Controle_jubilee\"</h5>"
   ]
  },
  {
   "cell_type": "code",
   "execution_count": 51,
   "id": "a46c9cc6",
   "metadata": {},
   "outputs": [],
   "source": [
    "import sys\n",
    "import os\n",
    "sys.path.append(os.path.abspath(\"..\"))"
   ]
  },
  {
   "cell_type": "markdown",
   "id": "7a092a4b",
   "metadata": {},
   "source": [
    "<h5> Em seguida, faço a importação os objetos e funções dos scripts Python. Recomendo que acesse esses arquivo .py para conferir melhor os métodos das classes que representam o sistema</h5>"
   ]
  },
  {
   "cell_type": "code",
   "execution_count": 52,
   "id": "6296152c",
   "metadata": {},
   "outputs": [],
   "source": [
    "from jubilee_controller import JubileeMotionController\n",
    "import matplotlib.pyplot as plt\n",
    "import time\n",
    "import numpy as np \n",
    "from pynput import keyboard\n",
    "import cv2\n",
    "from datetime import datetime\n",
    "from camera_controller import camera_tool\n",
    "from email_sender import send_email\n",
    "from image_processing import detect_circle\n",
    "from gripper_controller import Gripper"
   ]
  },
  {
   "cell_type": "markdown",
   "id": "a261305e",
   "metadata": {},
   "source": [
    "<h5> Nas duas células a seguir, defino a instância da classe JubileeMotionController e faço um reset da máquina. O reset não é necessário sempre, rode essa células apenas se algum motor não responder durante a calibração.</h5>"
   ]
  },
  {
   "cell_type": "code",
   "execution_count": 53,
   "id": "4801867f",
   "metadata": {},
   "outputs": [],
   "source": [
    "jubilee = JubileeMotionController()"
   ]
  },
  {
   "cell_type": "code",
   "execution_count": 54,
   "id": "b26ad302",
   "metadata": {},
   "outputs": [
    {
     "name": "stdout",
     "output_type": "stream",
     "text": [
      "Reconectando...\n"
     ]
    }
   ],
   "source": [
    "jubilee.reset()"
   ]
  },
  {
   "cell_type": "markdown",
   "id": "1b0d7ef1",
   "metadata": {},
   "source": [
    "<h5> <P align='justify'>Para  calibrar a máquina, basta usar o método \"home_all\", ele é responsável por calibrar todos os eixos da máquina. Ao rodar a célula a seguir, a máquina vai calibrar o eixo y e x voltando a guia linear até encontrar o sensor de fim de curso. Em seguida, ele vai abrir uma janela perguntando se a mesa está livre e vai fazer a calibração do z. Ressalto que o modo mesh_mode_z serve para fazer ou não o alinhamento da mesa, geralmente não é necessário fazer, a menos que, esteja visivelmente desalinhada. Após o alinhamento do z, o do sistema de troca de ferramentas é calibrados. O método protect_tools impede que o sistema avance em valores menores que 50 no eixo y, o que impede colisões com as ferramentas. Esse método é desativado de forma temporaria e automática durante a instalação de ferramentas. </p></h5>"
   ]
  },
  {
   "cell_type": "code",
   "execution_count": 62,
   "id": "35d87ef1",
   "metadata": {},
   "outputs": [],
   "source": [
    "jubilee.home_all(mesh_mode_z=False)\n",
    "jubilee.protect_tools(on=True)\n",
    "jubilee.move_xyz_absolute(z=50)"
   ]
  },
  {
   "cell_type": "markdown",
   "id": "e573a095",
   "metadata": {},
   "source": [
    "<h5>\n",
    "<p align='justify'>\n",
    "Você pode usar os métodos move_xyz_absolute e move_xyz_relative para controlar a posição do sistema. No modo absoluto, cada coordenada representa a posição global da plataforma, ou seja, a máquina se move exatamente para a posição especificada no espaço. Já no modo relativo, os movimentos são calculados a partir da posição atual, então, por exemplo, um comando como (10, 0, -20) fará com que a plataforma se desloque 10 mm para a direita em X e suba 20 mm em Z a partir da posição atual. A imagem a seguir mostra o sistema na posição (0, 50, 0).\n",
    "</p>\n",
    "</h5>\n",
    "\n",
    "<p align=\"center\">\n",
    "  <img src=\"https://raw.githubusercontent.com/jsales-1/raspilum_jubilee/main/Imagens%20Readme/sentidos_jubilee.jpg\" width=\"400\"><br>\n",
    "  <em>Exemplo da plataforma na posição (0,50,0).</em>\n",
    "</p>\n",
    "\n",
    "\n",
    "\n"
   ]
  },
  {
   "cell_type": "markdown",
   "id": "b7078ca0",
   "metadata": {},
   "source": [
    "<h5>\n",
    "<p align='justify'>\n",
    "A célula a seguir faz é um exemplo de movimentação absoluta. Rodando a célula com essa coordenadas, o suporte de ferramentas vai para o canto superior direito e abaixará a plataforma. Considerando que se trata de um posição absoluta, ao rodar a célula duas vezes, sem que outra movimentação tenha sido feita, nada acontecerá, pois a máquina se encontrará na posição definida anteriormente.\n",
    "</p>"
   ]
  },
  {
   "cell_type": "code",
   "execution_count": 57,
   "id": "279d82e8",
   "metadata": {},
   "outputs": [],
   "source": [
    "jubilee.move_xyz_absolute(x=320,y=390,z=200,velocity=6000)"
   ]
  },
  {
   "cell_type": "markdown",
   "id": "ee1687c1",
   "metadata": {},
   "source": [
    "<h5>\n",
    "<p align='justify'>\n",
    "É possível colocar <i>delays</i> nas movimentações usando o método sleep da biblioteca <i>time</i> para fazer com que a máquina passe um tempo parado após cada movimentação. Esse método recebe o tempo de espera em segundos.\n",
    "</p>"
   ]
  },
  {
   "cell_type": "code",
   "execution_count": 58,
   "id": "71fb69f7",
   "metadata": {},
   "outputs": [],
   "source": [
    "jubilee.move_xyz_absolute(x=165,y=200,z=200,velocity=6000)\n",
    "time.sleep(4)\n",
    "jubilee.move_xyz_absolute(x=0,y=300,z=250,velocity=6000)\n",
    "time.sleep(5)\n",
    "jubilee.move_xyz_absolute(x=165,y=200,z=200,velocity=6000)"
   ]
  },
  {
   "cell_type": "markdown",
   "id": "b7249484",
   "metadata": {},
   "source": [
    "<h5>\n",
    "<p align='justify'>\n",
    "A próxima célula é um exemplo de movimentação relativa, ao rodar, a máquina irá se movimentar em 100mm no eixo x e depois irá retornar menos 100mm, voltando para a posição inicial. Observe que a velocidade de movimento também pode ser definida. A unidade da velocidade está em mm/min, não se preocupe caso venha a definir uma velocidade de 17987547480000mm/min por acidente, a velocidade máxima de XY são definidos como 18000mm/min nas configurações da máquina, enquanto Z tem por velocidade máxima 1600mm/min.\n",
    "</p>"
   ]
  },
  {
   "cell_type": "code",
   "execution_count": 74,
   "id": "d2c2b434",
   "metadata": {},
   "outputs": [],
   "source": [
    "jubilee.move_xyz_relative(x=100,y=0,z=0,velocity=1500)\n",
    "time.sleep(1)\n",
    "jubilee.move_xyz_relative(x=-100,y=0,z=0,velocity=1500)"
   ]
  },
  {
   "cell_type": "markdown",
   "id": "4598349f",
   "metadata": {},
   "source": [
    "<h5>\n",
    "<p align='justify'>\n",
    "É possível fazer loops de movimentação, permitindo que a máquina fique fazendo movimentações repetitivas. A pŕoxima célula faz com que a máquina faça 5 vezes o perímetro de um retangulo.\n",
    "</p>"
   ]
  },
  {
   "cell_type": "code",
   "execution_count": 75,
   "id": "56cdfc08",
   "metadata": {},
   "outputs": [],
   "source": [
    "for _ in range(5):\n",
    "    jubilee.move_xyz_absolute(x=165,y=200,z=200,velocity=10000)\n",
    "    jubilee.move_xyz_absolute(x=65,y=200,z=200,velocity=10000)\n",
    "    jubilee.move_xyz_absolute(x=65,y=350,z=200,velocity=10000)\n",
    "    jubilee.move_xyz_absolute(x=165,y=350,z=200,velocity=10000)\n"
   ]
  },
  {
   "cell_type": "markdown",
   "id": "bc0500d9",
   "metadata": {},
   "source": [
    "<h5>\n",
    "<p align='justify'>Utilizando das funções trigonométricas disponíveis do numpy, pode-se criar movimentações mais complexas, como circunferências \n",
    "</p>"
   ]
  },
  {
   "cell_type": "code",
   "execution_count": 76,
   "id": "12416945",
   "metadata": {},
   "outputs": [
    {
     "name": "stderr",
     "output_type": "stream",
     "text": [
      "Ignoring fixed y limits to fulfill fixed data aspect with adjustable data limits.\n"
     ]
    },
    {
     "data": {
      "image/png": "[encoded data removed]",
      "text/plain": [
       "<Figure size 600x600 with 1 Axes>"
      ]
     },
     "metadata": {},
     "output_type": "display_data"
    }
   ],
   "source": [
    "xc = 165\n",
    "yc = 200\n",
    "R = 100  \n",
    "z = 200\n",
    "velocidade = 10000\n",
    "\n",
    "n_pontos = 100\n",
    "\n",
    "for i in range(n_pontos + 1):\n",
    "    theta = 2 * np.pi * i / n_pontos\n",
    "    x = xc + R * np.cos(theta)\n",
    "    y = yc + R * np.sin(theta)\n",
    "    jubilee.move_xyz_absolute(x=x, y=y, z=z, velocity=velocidade)\n",
    "\n",
    "theta = np.linspace(0, 2 * np.pi, n_pontos + 1)\n",
    "x = xc + R * np.cos(theta)\n",
    "y = yc + R * np.sin(theta)\n",
    "\n",
    "plt.figure(figsize=(6, 6))\n",
    "plt.plot(x, y, '-o', markersize=3)\n",
    "plt.xlabel(\"X (mm)\")\n",
    "plt.ylabel(\"Y (mm)\")\n",
    "plt.axis(\"equal\")\n",
    "plt.xlim((0,330))\n",
    "plt.ylim((0,400))\n",
    "plt.grid(True)\n",
    "plt.show()\n"
   ]
  },
  {
   "cell_type": "markdown",
   "id": "83e68ba4",
   "metadata": {},
   "source": [
    "<h5>\n",
    "<p align='justify'>\n",
    "O método keyboard_controll permite controlar o sistema diretamente pelo teclado. As setas direcionais movimentam a plataforma: a seta para cima move em Y para frente, a seta para baixo move em Y para trás, a seta para a esquerda move em X para a esquerda e a seta para a direita move em X para a direita. As teclas \"Page Up\" e \"Page Down\" movimentam a plataforma para cima e para baixo no eixo Z. Com as teclas + e - você pode aumentar ou diminuir o tamanho do passo, que determina a distância percorrida em cada movimento. Para encerrar o controle pelo teclado, basta pressionar a tecla \"esc\" ou interromper a célula. Durante o uso, a posição atual da plataforma e o passo configurado são exibidos em tempo real no console.\n",
    "</p>\n",
    "</h5>"
   ]
  },
  {
   "cell_type": "code",
   "execution_count": 48,
   "id": "cccce266",
   "metadata": {},
   "outputs": [
    {
     "name": "stdout",
     "output_type": "stream",
     "text": [
      "X:  185.00 | Y:  190.00 | Z:  200.00 || Passo: 10  mm\n",
      "Interrompido\n"
     ]
    }
   ],
   "source": [
    "jubilee.keyboard_controll()"
   ]
  }
 ],
 "metadata": {
  "kernelspec": {
   "display_name": "raspilum",
   "language": "python",
   "name": "python3"
  },
  "language_info": {
   "codemirror_mode": {
    "name": "ipython",
    "version": 3
   },
   "file_extension": ".py",
   "mimetype": "text/x-python",
   "name": "python",
   "nbconvert_exporter": "python",
   "pygments_lexer": "ipython3",
   "version": "3.10.18"
  }
 },
 "nbformat": 4,
 "nbformat_minor": 5
}
